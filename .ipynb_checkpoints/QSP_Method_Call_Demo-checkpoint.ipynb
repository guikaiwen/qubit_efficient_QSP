{
 "cells": [
  {
   "cell_type": "markdown",
   "id": "f218e918-46e4-4914-930f-dd5d72c62154",
   "metadata": {},
   "source": [
    "# Quantum State Preparation Method Call Demo"
   ]
  },
  {
   "cell_type": "markdown",
   "id": "68611d6a-ebc4-47ee-9310-147c02eff0c9",
   "metadata": {},
   "source": [
    "Quantum state preparation (QSP) is a crucial subroutine in many proposed quantum algorithms that claim super-polynomial speedup over their classical counterparts in applications such as quantum machine learning, simulating quantum systems, solving linear systems of equations, and synthesizing unitary operations.\n",
    "\n",
    "In contrast with classical data strcture that needs $O(N)$ bits to encode N values, we only need $O(\\log N)$ qubits to encode these N values, thus providing an exponentially compact encoding method. However, to produce such encoded state is not as simple as the classical data structure."
   ]
  },
  {
   "cell_type": "markdown",
   "id": "63686492-b2f0-4b57-be34-f33ba6d64597",
   "metadata": {},
   "source": [
    "This note book will give a simple walk-through of using the pre-implemented quantum state preparation function `qsp_qubit_eff` to execute the following QSP oracle:\n",
    "$$U_{\\mathrm{QSP}} |0^n\\rangle = |\\psi\\rangle = \\frac{1}{\\lVert \\mathbf{x}\\rVert}\\sum_{j=0}^{2^{n-1}}x_j |j\\rangle$$"
   ]
  },
  {
   "cell_type": "markdown",
   "id": "21ccfa82-90fa-4566-9309-fc4d290ca407",
   "metadata": {},
   "source": [
    "In other words, we can prepare an arbitrary n-qubit quantum state (with positive real amplitudes on all basis) from a n-qubit zero state.  "
   ]
  },
  {
   "cell_type": "markdown",
   "id": "9c672fb2-9eec-45c5-9897-30c5222fb46d",
   "metadata": {},
   "source": [
    "<span style=\"color:orange;\"> See https://github.com/guikaiwen/qubit_efficient_QSP/blob/main/%5BDetailed%20Implementation%5D%20QSP.ipynb for a detail implementation walk-through. </span>"
   ]
  },
  {
   "cell_type": "code",
   "execution_count": 1,
   "id": "b41dccbb-e6d6-4794-8235-8e71e9dedd1b",
   "metadata": {
    "tags": []
   },
   "outputs": [],
   "source": [
    "# Import Braket libraries\n",
    "import braket\n",
    "from braket.circuits import Circuit\n",
    "from braket.aws import AwsDevice\n",
    "from braket.devices import LocalSimulator\n",
    "\n",
    "import numpy as np\n",
    "import random"
   ]
  },
  {
   "cell_type": "markdown",
   "id": "03e63242-02ef-44f9-bb4c-3fb9d37eddc5",
   "metadata": {},
   "source": [
    "### Construct the QSP Circuit"
   ]
  },
  {
   "cell_type": "markdown",
   "id": "e4c456e0-fc3a-4a84-b634-a01c6babeeb1",
   "metadata": {},
   "source": [
    "We __import__ the quantum state preparation function `qsp_qubit_eff` from `qsp_circ_construction_qubit_efficient.py`, and some helper functions from `helper_functions.py`"
   ]
  },
  {
   "cell_type": "code",
   "execution_count": 2,
   "id": "a6676caa-ab5d-405e-b521-1d0d87eec1bf",
   "metadata": {
    "tags": []
   },
   "outputs": [],
   "source": [
    "from qsp_circ_construction_qubit_efficient import qsp_qubit_eff\n",
    "from helper_functions import round_to_three_significant_digits, row_to_column_vector, generate_normalized_random_vec"
   ]
  },
  {
   "cell_type": "markdown",
   "id": "bd50a643-bac4-481d-98b5-b7d5fdc9ffbe",
   "metadata": {},
   "source": [
    "#### Generate wave function vector"
   ]
  },
  {
   "cell_type": "markdown",
   "id": "461c5f72-42cf-49a5-b3bf-006221a32426",
   "metadata": {},
   "source": [
    "In order to define the QSP circuit, we would first need to specify the target wave function $\\psi$ we want to get, expressed in the 1D-array form $[x_0, x_1, ..., x_{2^n - 1}]$.\n",
    "\n",
    "Let's generate a random normalized wave function vector array of size $2^3 = 8$ using the helper functions.\n",
    "\n",
    "We will display the vector values in a column with all values rounded to 3 digits, using the helper functions."
   ]
  },
  {
   "cell_type": "code",
   "execution_count": 3,
   "id": "538a468a-da5e-4c17-8c18-12eb10c78225",
   "metadata": {
    "tags": []
   },
   "outputs": [
    {
     "name": "stdout",
     "output_type": "stream",
     "text": [
      "[[0.349]\n",
      " [0.262]\n",
      " [0.353]\n",
      " [0.126]\n",
      " [0.497]\n",
      " [0.503]\n",
      " [0.399]\n",
      " [0.098]]\n",
      "CPU times: user 253 µs, sys: 21 µs, total: 274 µs\n",
      "Wall time: 276 µs\n"
     ]
    }
   ],
   "source": [
    "%%time\n",
    "random.seed(10) # fix a seed for data reproduction purpose, you can change this value to play with other results\n",
    "n = 3 # number of qubits. We can encode 2^n number of values with only n qubits! You can change this parameter to see what will happen for larger QSP tasks\n",
    "WF_array = generate_normalized_random_vec(n)\n",
    "print(row_to_column_vector(round_to_three_significant_digits(WF_array, 3))) # print out the wave function vector array for validation"
   ]
  },
  {
   "cell_type": "markdown",
   "id": "81a22f2f-d533-4441-b52d-6adb41a4c7d5",
   "metadata": {},
   "source": [
    "#### Call default construction function"
   ]
  },
  {
   "cell_type": "markdown",
   "id": "cb0c2eec-4948-4040-886e-430c5ed466a1",
   "metadata": {},
   "source": [
    "Now we can call the default circuit construction methods to act on an empty Braket circuit, using the generated wave function array to define the rotation angles:"
   ]
  },
  {
   "cell_type": "code",
   "execution_count": 4,
   "id": "2e908425-8109-4bf3-bd54-92db2bcd995d",
   "metadata": {
    "tags": []
   },
   "outputs": [
    {
     "name": "stdout",
     "output_type": "stream",
     "text": [
      "T  : |   0    |   1    |2|   3    |4|   5    |6|   7    |8|   9    |10|11|   12   |13|\n",
      "                                                                                      \n",
      "q0 : -Ry(1.92)-C--------X-C--------X-C----------C--------X-C--------X--X--C--------X--\n",
      "               |          |          |          |          |              |           \n",
      "q1 : ----------Ry(1.05)---Ry(1.42)---C--------X-C--------X-C--------X-----C--------X--\n",
      "                                     |          |          |              |           \n",
      "q2 : --------------------------------Ry(0.48)---Ry(1.58)---Ry(0.68)-------Ry(1.29)----\n",
      "\n",
      "T  : |   0    |   1    |2|   3    |4|   5    |6|   7    |8|   9    |10|11|   12   |13|\n"
     ]
    }
   ],
   "source": [
    "initialized_circ = qsp_qubit_eff(WF_array)\n",
    "print(initialized_circ)"
   ]
  },
  {
   "cell_type": "markdown",
   "id": "3a5d9566-4659-4288-932a-f3206eee771e",
   "metadata": {},
   "source": [
    "(Note that the `qsp_qubit_eff` function currently assert the input parameter `WF_array` to be normalized and has length of power of 2)"
   ]
  },
  {
   "cell_type": "markdown",
   "id": "e29c4b3f-302c-4ef6-8af0-d50218744e1d",
   "metadata": {},
   "source": [
    "#### [Optional] Append mode"
   ]
  },
  {
   "cell_type": "markdown",
   "id": "85ccb3ff-1ecd-4f28-8c91-452a456d94af",
   "metadata": {},
   "source": [
    "The append mode can be used for cases such as reflecting around a particular quantum state in e.g. amplitude amplification.\n",
    "\n",
    "The circuit below shows an illustrated example (not really a Grover) on using the append mode: we first initialize a 3-qubit GHZ state, then append it with the QSP circuit."
   ]
  },
  {
   "cell_type": "code",
   "execution_count": 5,
   "id": "4daea21b-be61-407c-85e9-d9f44eeb38f1",
   "metadata": {
    "tags": []
   },
   "outputs": [
    {
     "name": "stdout",
     "output_type": "stream",
     "text": [
      "T  : |0|1|   2    |   3    |4|   5    |6|   7    |8|   9    |10|   11   |12|13|   14   |15|\n",
      "                                                                                           \n",
      "q0 : -H-C-Ry(1.92)-C--------X-C--------X-C----------C--------X--C--------X--X--C--------X--\n",
      "        |          |          |          |          |           |              |           \n",
      "q1 : ---X-C--------Ry(1.05)---Ry(1.42)---C--------X-C--------X--C--------X-----C--------X--\n",
      "          |                              |          |           |              |           \n",
      "q2 : -----X------------------------------Ry(0.48)---Ry(1.58)----Ry(0.68)-------Ry(1.29)----\n",
      "\n",
      "T  : |0|1|   2    |   3    |4|   5    |6|   7    |8|   9    |10|   11   |12|13|   14   |15|\n"
     ]
    }
   ],
   "source": [
    "GHZ_circ = Circuit().h(0).cnot(0, 1).cnot(1, 2) # a simple GHZ state\n",
    "appended_circ = qsp_qubit_eff(WF_array, mode='append', orig_circ=GHZ_circ)\n",
    "print(appended_circ)"
   ]
  },
  {
   "cell_type": "markdown",
   "id": "1b40c1a4-c4f5-4d9d-988b-0024e5b1b0d2",
   "metadata": {},
   "source": [
    "### Quantum Circuit Execution"
   ]
  },
  {
   "cell_type": "markdown",
   "id": "5f273ccb-3880-490b-be99-f4cc6450e28a",
   "metadata": {},
   "source": [
    "Now let's test our constructed circuit!\n",
    "\n",
    "We execute the constructed circuit using the Braket's local simulator."
   ]
  },
  {
   "cell_type": "code",
   "execution_count": 6,
   "id": "71cd4671-2feb-429a-ba33-97e17f1d9c77",
   "metadata": {
    "tags": []
   },
   "outputs": [
    {
     "name": "stderr",
     "output_type": "stream",
     "text": [
      "This program uses OpenQASM language features that may not be supported on QPUs or on-demand simulators.\n"
     ]
    },
    {
     "name": "stdout",
     "output_type": "stream",
     "text": [
      "[[0.349+0.j]\n",
      " [0.262+0.j]\n",
      " [0.353+0.j]\n",
      " [0.126+0.j]\n",
      " [0.497+0.j]\n",
      " [0.503+0.j]\n",
      " [0.399+0.j]\n",
      " [0.098+0.j]]\n",
      "CPU times: user 31.2 ms, sys: 1.74 ms, total: 32.9 ms\n",
      "Wall time: 32.3 ms\n"
     ]
    }
   ],
   "source": [
    "%%time\n",
    "braket_device = LocalSimulator() # define the simulator\n",
    "initialized_circ.state_vector() # convert the circuit to state vector\n",
    "braket_state_vector_result = braket_device.run(initialized_circ, shots=0).result().values[0] # extract the result\n",
    "print(row_to_column_vector(round_to_three_significant_digits(braket_state_vector_result, 3))) # print out the resulted state vector"
   ]
  },
  {
   "cell_type": "markdown",
   "id": "cb1ce8cc-0ea7-46f8-9098-8adf957f1398",
   "metadata": {},
   "source": [
    "Let's see the actual difference between the expected amplitude vector vs what is actually produced"
   ]
  },
  {
   "cell_type": "code",
   "execution_count": 7,
   "id": "1d71045e-73f0-4f6a-a2cc-ad751e85af87",
   "metadata": {
    "tags": []
   },
   "outputs": [
    {
     "name": "stdout",
     "output_type": "stream",
     "text": [
      "[[-1.11022302e-16+0.j]\n",
      " [-5.55111512e-17+0.j]\n",
      " [-1.11022302e-16+0.j]\n",
      " [-5.55111512e-17+0.j]\n",
      " [ 5.55111512e-17+0.j]\n",
      " [ 1.11022302e-16+0.j]\n",
      " [ 5.55111512e-17+0.j]\n",
      " [ 2.77555756e-17+0.j]]\n"
     ]
    }
   ],
   "source": [
    "print(row_to_column_vector(np.array(braket_state_vector_result) - np.array(WF_array)))"
   ]
  },
  {
   "cell_type": "markdown",
   "id": "2e6d2452-5e8e-4235-bdd5-60523b642b4c",
   "metadata": {},
   "source": [
    "The result matches perfectly with the desired output!"
   ]
  },
  {
   "cell_type": "code",
   "execution_count": null,
   "id": "58554a5a-2fad-4e32-91f4-28200d030bbd",
   "metadata": {},
   "outputs": [],
   "source": []
  }
 ],
 "metadata": {
  "kernelspec": {
   "display_name": "Python 3 (ipykernel)",
   "language": "python",
   "name": "python3"
  },
  "language_info": {
   "codemirror_mode": {
    "name": "ipython",
    "version": 3
   },
   "file_extension": ".py",
   "mimetype": "text/x-python",
   "name": "python",
   "nbconvert_exporter": "python",
   "pygments_lexer": "ipython3",
   "version": "3.10.11"
  }
 },
 "nbformat": 4,
 "nbformat_minor": 5
}
