{
 "cells": [
  {
   "cell_type": "markdown",
   "id": "f92cf4c5-1faf-4e8a-aee6-ba6d4d88832c",
   "metadata": {},
   "source": [
    "In this notebook, we provide example comparisons of the execution time for quantum state preparation task using:\n",
    "\n",
    "1. Our newly implemented QSP method using the multi-control Ry gate sequences via Braket\n",
    "\n",
    "2. Qiskit's build-in `.initialize` method\n",
    "\n",
    "3. Braket's `.unitary` method\n",
    "\n",
    "see `dense_state_comparisons.ipynb` for the comprehensive benchmark expe"
   ]
  },
  {
   "cell_type": "code",
   "execution_count": 1,
   "id": "76c52c7f-1759-48d3-8155-b7fccc2620b6",
   "metadata": {
    "tags": []
   },
   "outputs": [],
   "source": [
    "import numpy as np\n",
    "import random\n",
    "import math\n",
    "\n",
    "# import some helper functions from parent folder\n",
    "import sys\n",
    "import os\n",
    "parent_dir = os.path.abspath(os.path.join(os.path.dirname('performance_benchmark'), \"..\"))\n",
    "sys.path.append(parent_dir)\n",
    "from helper_functions import nicer_array_display, generate_normalized_complex_array"
   ]
  },
  {
   "cell_type": "markdown",
   "id": "caeadfb4-3716-4471-b40c-42fef6ca40c1",
   "metadata": {},
   "source": [
    "## Generate target wave function vector array"
   ]
  },
  {
   "cell_type": "code",
   "execution_count": 2,
   "id": "4868171b-4f43-4237-b5e2-76972f799fbf",
   "metadata": {
    "scrolled": true,
    "tags": []
   },
   "outputs": [
    {
     "name": "stdout",
     "output_type": "stream",
     "text": [
      "[[ 0.222-0.271j]\n",
      " [-0.392-0.337j]\n",
      " [ 0.109+0.152j]\n",
      " [ 0.204+0.371j]\n",
      " [-0.001-0.406j]\n",
      " [-0.225+0.01j ]\n",
      " [-0.247+0.256j]\n",
      " [ 0.213+0.092j]]\n",
      "CPU times: user 1.9 ms, sys: 367 µs, total: 2.26 ms\n",
      "Wall time: 2.19 ms\n"
     ]
    }
   ],
   "source": [
    "%%time\n",
    "np.random.seed(10) # fix a seed for data reproduction purpose, you can change this value to play with other results\n",
    "n = 3 # number of qubits. We can encode 2^n number of values with n qubits!\n",
    "normalized_complex_array = generate_normalized_complex_array(n) # change this line to generate_normalized_real_array(n) to test on real amplitude only\n",
    "print(nicer_array_display(normalized_complex_array, 3))"
   ]
  },
  {
   "cell_type": "markdown",
   "id": "fe141fcf-5bc0-4557-8bda-23b3b4b318a9",
   "metadata": {},
   "source": [
    "## Experiment 1: Braket QSP Timer"
   ]
  },
  {
   "cell_type": "code",
   "execution_count": 5,
   "id": "7eac79bb-a072-4ac4-bf55-6f0a0d6c08b6",
   "metadata": {},
   "outputs": [],
   "source": [
    "# Import Braket libraries\n",
    "import braket\n",
    "from braket.circuits import Circuit\n",
    "from braket.aws import AwsDevice\n",
    "from braket.devices import LocalSimulator\n",
    "braket_device = LocalSimulator() # define the simulator\n",
    "\n",
    "from QubitEfficientQSP import QubitEfficientQSP"
   ]
  },
  {
   "cell_type": "code",
   "execution_count": 6,
   "id": "68ea4f54-0038-4edd-8bda-8694ce9d6dfb",
   "metadata": {},
   "outputs": [
    {
     "name": "stdout",
     "output_type": "stream",
     "text": [
      "CPU times: user 5.44 ms, sys: 454 µs, total: 5.9 ms\n",
      "Wall time: 5.88 ms\n"
     ]
    }
   ],
   "source": [
    "%%time\n",
    "qsp = QubitEfficientQSP(normalized_complex_array)\n",
    "braket_qsp_circ = qsp.construct_circuit()"
   ]
  },
  {
   "cell_type": "code",
   "execution_count": 7,
   "id": "4e8e22fd-0bd6-4e3d-942e-bb578d8748fe",
   "metadata": {
    "scrolled": true,
    "tags": []
   },
   "outputs": [
    {
     "name": "stderr",
     "output_type": "stream",
     "text": [
      "This program uses OpenQASM language features that may not be supported on QPUs or on-demand simulators.\n"
     ]
    },
    {
     "name": "stdout",
     "output_type": "stream",
     "text": [
      "[[ 0.109-0.333j]\n",
      " [-0.488-0.172j]\n",
      " [ 0.157+0.102j]\n",
      " [ 0.324+0.272j]\n",
      " [-0.148-0.378j]\n",
      " [-0.206+0.091j]\n",
      " [-0.137+0.328j]\n",
      " [ 0.232+0.008j]]\n",
      "CPU times: user 48.2 ms, sys: 3.3 ms, total: 51.5 ms\n",
      "Wall time: 51.3 ms\n"
     ]
    }
   ],
   "source": [
    "%%time\n",
    "braket_qsp_circ.state_vector() # convert the circuit to state vector\n",
    "braket_result = braket_device.run(braket_qsp_circ, shots=0).result().values[0] # extract the result\n",
    "print(nicer_array_display(braket_result, 3)) # print out the resulted state vector"
   ]
  },
  {
   "cell_type": "markdown",
   "id": "2045b03b-4b38-4636-a925-8d250fbcdddc",
   "metadata": {},
   "source": [
    "(Note that the result is differed by a global phase)"
   ]
  },
  {
   "cell_type": "markdown",
   "id": "8889c1f5-0663-44ee-afa5-73f9848ad804",
   "metadata": {},
   "source": [
    "## Experiment 2: Qiskit QSP Timer"
   ]
  },
  {
   "cell_type": "code",
   "execution_count": 8,
   "id": "f2f04097-917e-4b37-b9c2-6829cf5df4bd",
   "metadata": {},
   "outputs": [],
   "source": [
    "# Import Qiskit libraries\n",
    "from qiskit import QuantumCircuit\n",
    "from qiskit.execute_function import execute\n",
    "from qiskit import BasicAer\n",
    "from qiskit import transpile"
   ]
  },
  {
   "cell_type": "markdown",
   "id": "9cab8b77-565f-4788-93f6-d6574acccb5b",
   "metadata": {},
   "source": [
    "### Qiskit State Vector Simulator"
   ]
  },
  {
   "cell_type": "code",
   "execution_count": 9,
   "id": "8c4ed635-84ff-4fa0-a8d7-749e66eb6954",
   "metadata": {
    "tags": []
   },
   "outputs": [
    {
     "data": {
      "text/plain": [
       "<qiskit.circuit.instructionset.InstructionSet at 0x30e405180>"
      ]
     },
     "execution_count": 9,
     "metadata": {},
     "output_type": "execute_result"
    }
   ],
   "source": [
    "qiskit_circ = QuantumCircuit(n)\n",
    "qiskit_circ.initialize(normalized_complex_array, range(n))\n",
    "# print(qiskit_circ)"
   ]
  },
  {
   "cell_type": "code",
   "execution_count": 10,
   "id": "aa5180da-04fc-4cd9-8b35-72c50ee3f46e",
   "metadata": {
    "scrolled": true,
    "tags": []
   },
   "outputs": [
    {
     "name": "stdout",
     "output_type": "stream",
     "text": [
      "[[ 0.222-0.271j]\n",
      " [-0.392-0.337j]\n",
      " [ 0.109+0.152j]\n",
      " [ 0.204+0.371j]\n",
      " [-0.001-0.406j]\n",
      " [-0.225+0.01j ]\n",
      " [-0.247+0.256j]\n",
      " [ 0.213+0.092j]]\n",
      "CPU times: user 36.4 ms, sys: 10.5 ms, total: 46.9 ms\n",
      "Wall time: 58.8 ms\n"
     ]
    }
   ],
   "source": [
    "%%time\n",
    "qiskit_backend = BasicAer.get_backend('statevector_simulator')\n",
    "job = execute(qiskit_circ, qiskit_backend)\n",
    "qiskit_state_vector_result = job.result().get_statevector()\n",
    "print(nicer_array_display(qiskit_state_vector_result, 3)) # print out the resulted state vector"
   ]
  },
  {
   "cell_type": "markdown",
   "id": "2c97145e-299c-44a3-9975-7dccdd261045",
   "metadata": {},
   "source": [
    "### Qiskit QASM Simulator"
   ]
  },
  {
   "cell_type": "markdown",
   "id": "4a3e9ed9-19d8-45c8-aa8d-0d7dc4b71193",
   "metadata": {},
   "source": [
    "We also tested the QASM simulator. The consumed time is very similar to the state vector simulation. Therefore, we only report the time result for the state vector simlulator in the comprehensive benchmark experiments."
   ]
  },
  {
   "cell_type": "code",
   "execution_count": 13,
   "id": "da9efb5c-6aab-43f2-b598-7e0e2c69d5bd",
   "metadata": {
    "tags": []
   },
   "outputs": [
    {
     "name": "stdout",
     "output_type": "stream",
     "text": [
      "CPU times: user 36.6 ms, sys: 1.99 ms, total: 38.5 ms\n",
      "Wall time: 37.1 ms\n"
     ]
    }
   ],
   "source": [
    "%%time\n",
    "circ = QuantumCircuit(n)\n",
    "circ.initialize(normalized_complex_array, range(n))\n",
    "\n",
    "circ.measure_all()\n",
    "\n",
    "# Transpile for simulator\n",
    "simulator = BasicAer.get_backend('qasm_simulator')\n",
    "circ = transpile(circ, simulator)\n",
    "\n",
    "# Run and get counts\n",
    "result = simulator.run(circ).result()\n",
    "counts = result.get_counts(circ)\n",
    "# plot_histogram(counts, title='Bell-State counts')"
   ]
  },
  {
   "cell_type": "markdown",
   "id": "8159d062-73e5-445f-9b6c-a961d5eac650",
   "metadata": {},
   "source": [
    "## Experiment 3: Braket Unitary QSP Timer"
   ]
  },
  {
   "cell_type": "markdown",
   "id": "a5c61e03-b8ae-4cb1-957a-aa4c1ab4fa76",
   "metadata": {},
   "source": [
    "We can use the `.to_unitary` method on the constructed QSP circuit to get the unitary operator matrix, which can be used for the `.unitary` method to construct the QSP circuit using the unitary. (Note: there might be a more efficient way to get the unitary matrix, the point of this experiment is only to examine the runtime for the `.unitary` method."
   ]
  },
  {
   "cell_type": "code",
   "execution_count": 14,
   "id": "edc42afa-3425-477c-85f4-c3dc9aa9baeb",
   "metadata": {
    "tags": []
   },
   "outputs": [
    {
     "name": "stdout",
     "output_type": "stream",
     "text": [
      "CPU times: user 3.58 ms, sys: 481 µs, total: 4.06 ms\n",
      "Wall time: 3.94 ms\n"
     ]
    }
   ],
   "source": [
    "%%time\n",
    "braket_qsp_circ_unitary_matrix_alt = braket_qsp_circ.to_unitary()\n",
    "braket_qsp_circ_from_unitary_alt = Circuit()"
   ]
  },
  {
   "cell_type": "code",
   "execution_count": 15,
   "id": "5d4b9764-9eaf-4995-b58d-fa7d61a464f7",
   "metadata": {
    "scrolled": true,
    "tags": []
   },
   "outputs": [
    {
     "name": "stdout",
     "output_type": "stream",
     "text": [
      "[[ 0.109-0.333j]\n",
      " [-0.488-0.172j]\n",
      " [ 0.157+0.102j]\n",
      " [ 0.324+0.272j]\n",
      " [-0.148-0.378j]\n",
      " [-0.206+0.091j]\n",
      " [-0.137+0.328j]\n",
      " [ 0.232+0.008j]]\n",
      "CPU times: user 41.7 ms, sys: 3.11 ms, total: 44.8 ms\n",
      "Wall time: 42.5 ms\n"
     ]
    }
   ],
   "source": [
    "%%time\n",
    "braket_qsp_circ_from_unitary_alt.unitary(matrix=braket_qsp_circ_unitary_matrix_alt, targets=range(n))\n",
    "braket_qsp_circ_from_unitary_alt.state_vector() # convert the circuit to state vector\n",
    "braket_result_from_unitary_alt = braket_device.run(braket_qsp_circ_from_unitary_alt, shots=0).result().values[0] # extract the result\n",
    "print(nicer_array_display(braket_result_from_unitary_alt, 3)) # print out the resulted state vector"
   ]
  },
  {
   "cell_type": "markdown",
   "id": "12119228-e00b-4748-b0f3-4b2542b12398",
   "metadata": {},
   "source": [
    "(Note that the result is differed by a global phase)"
   ]
  },
  {
   "cell_type": "markdown",
   "id": "ae7cb552-0116-4f41-bfd7-4dfa2691b235",
   "metadata": {},
   "source": [
    "---------------"
   ]
  },
  {
   "cell_type": "markdown",
   "id": "0fcfaf50-10d6-4a03-9bbf-687ac0ba4368",
   "metadata": {},
   "source": [
    "What if some ask, wait isn't this just because Braket in innately better than Qiskit for general quantum circuit simulations?\n",
    "\n",
    "The purpose of the following two experiment is to show that the Qiskit simulator runs faster than the Braket simulator for most cases."
   ]
  },
  {
   "cell_type": "markdown",
   "id": "7aec89d6-5890-4b50-b8f8-64b5255a1189",
   "metadata": {
    "tags": []
   },
   "source": [
    "## Experiment 4: Braket vs Qiskit: GHZ State (high Qubit Count) Construction"
   ]
  },
  {
   "cell_type": "markdown",
   "id": "bfc848ef-4465-4bbc-99fb-5675934ba7a7",
   "metadata": {},
   "source": [
    "The purpose of this experiment is to show that the Qiskit simulator runs faster than the Braket simulator for general low-depth and high-qubit-count circuits."
   ]
  },
  {
   "cell_type": "markdown",
   "id": "a2904cd7-1f4d-4e50-a59a-54010e761119",
   "metadata": {},
   "source": [
    "We create 24-qubit states and compare the performance using Braket and Qiskit simulators."
   ]
  },
  {
   "cell_type": "markdown",
   "id": "76c9facb-21ee-415a-9382-3f4f0909c830",
   "metadata": {},
   "source": [
    "First let's implement it via Qiskit and run:"
   ]
  },
  {
   "cell_type": "code",
   "execution_count": 16,
   "id": "fac8f830-988b-4c83-ba6c-86c0a302ee44",
   "metadata": {},
   "outputs": [],
   "source": [
    "n = 24\n",
    "qiskit_ghz_circ = QuantumCircuit(n)\n",
    "qiskit_ghz_circ.h(0)\n",
    "for i in range(n - 1):\n",
    "    qiskit_ghz_circ.cx(i, i + 1)\n",
    "# print(qiskit_ghz_circ)"
   ]
  },
  {
   "cell_type": "code",
   "execution_count": 17,
   "id": "57ac02a4-8725-4608-af57-982fe97024e0",
   "metadata": {
    "tags": []
   },
   "outputs": [
    {
     "name": "stdout",
     "output_type": "stream",
     "text": [
      "[[0.707+0.j]\n",
      " [0.   +0.j]\n",
      " [0.   +0.j]\n",
      " ...\n",
      " [0.   +0.j]\n",
      " [0.   +0.j]\n",
      " [0.707+0.j]]\n",
      "CPU times: user 6.88 s, sys: 722 ms, total: 7.61 s\n",
      "Wall time: 7.67 s\n"
     ]
    }
   ],
   "source": [
    "%%time\n",
    "job = execute(qiskit_ghz_circ, qiskit_backend)\n",
    "qiskit_state_vector_result = job.result().get_statevector()\n",
    "print(nicer_array_display(qiskit_state_vector_result, 3)) # print out the resulted state vector"
   ]
  },
  {
   "cell_type": "markdown",
   "id": "87eb464c-58a5-46c9-bb34-370bdae2e5f4",
   "metadata": {},
   "source": [
    "Next, use Braket to perform the same job:"
   ]
  },
  {
   "cell_type": "code",
   "execution_count": 18,
   "id": "c9e96b4f-95ee-4b7a-bf3d-1abca869495b",
   "metadata": {
    "tags": []
   },
   "outputs": [],
   "source": [
    "braket_ghz_circ = Circuit()\n",
    "braket_ghz_circ.h(0)\n",
    "for i in range(n - 1):\n",
    "    braket_ghz_circ.cnot(i, i + 1)\n",
    "# print(braket_ghz_circ)"
   ]
  },
  {
   "cell_type": "code",
   "execution_count": 19,
   "id": "95004d5d-1eee-42e6-8762-eb8d65a8593f",
   "metadata": {
    "tags": []
   },
   "outputs": [
    {
     "name": "stdout",
     "output_type": "stream",
     "text": [
      "[[0.707+0.j]\n",
      " [0.   +0.j]\n",
      " [0.   +0.j]\n",
      " ...\n",
      " [0.   +0.j]\n",
      " [0.   +0.j]\n",
      " [0.707+0.j]]\n",
      "CPU times: user 19.9 s, sys: 4.09 s, total: 24 s\n",
      "Wall time: 4.21 s\n"
     ]
    }
   ],
   "source": [
    "%%time\n",
    "braket_ghz_circ.state_vector() # convert the circuit to state vector\n",
    "braket_result = braket_device.run(braket_ghz_circ, shots=0).result().values[0] # extract the result\n",
    "print(nicer_array_display(braket_result, 3)) # print out the resulted state vector"
   ]
  },
  {
   "cell_type": "markdown",
   "id": "89d35db5-8318-4408-9dd7-d3fd5b3ad352",
   "metadata": {},
   "source": [
    "We can see that the CPU time for Braket is higher than Qiskit (although Braket uses better local machine parallelization to achieve slightly better wall time)."
   ]
  },
  {
   "cell_type": "markdown",
   "id": "f9778f80-37ea-43b8-b119-09dc2e12ecb0",
   "metadata": {},
   "source": [
    "## Experiment 5: Braket vs Qiskit: High Depth Circuit Construction"
   ]
  },
  {
   "cell_type": "markdown",
   "id": "390ca635-76ef-483b-9492-4fa2f7ad5fef",
   "metadata": {},
   "source": [
    "The purpose of this experiment is to show that the Qiskit simulator runs faster than the Braket simulator for general high-depth and low-qubit-count circuits."
   ]
  },
  {
   "cell_type": "markdown",
   "id": "a0767781-213a-4574-b9b4-a7b8aeeb8d9f",
   "metadata": {},
   "source": [
    "We repeat the following circuit for many layers, each layers with randomized Rx and Rz angles:"
   ]
  },
  {
   "attachments": {
    "daac26b3-ea59-43eb-8501-30eca97d221b.png": {
     "image/png": "[encoded data removed]"
    }
   },
   "cell_type": "markdown",
   "id": "521b2344-7379-4596-9a1a-68cdb8deac71",
   "metadata": {},
   "source": [
    "![QML Single Layer.png](attachment:daac26b3-ea59-43eb-8501-30eca97d221b.png)"
   ]
  },
  {
   "cell_type": "code",
   "execution_count": 20,
   "id": "98361553-006a-482d-9638-13b30a21ad4d",
   "metadata": {},
   "outputs": [],
   "source": [
    "def generate_random_2d_array(x, y):\n",
    "    # Create a list comprehension to generate rows, where each row contains 'y' random numbers between -π and π\n",
    "    return [[random.uniform(-math.pi, math.pi) for _ in range(y)] for _ in range(x)]"
   ]
  },
  {
   "cell_type": "code",
   "execution_count": 21,
   "id": "63ad6e10-4ff6-4266-8701-d2623adc9adf",
   "metadata": {
    "tags": []
   },
   "outputs": [],
   "source": [
    "layer = 3000\n",
    "n = 4\n",
    "rx_angles_2d_array = generate_random_2d_array(layer, n)\n",
    "rz_angles_2d_array = generate_random_2d_array(layer, n)\n",
    "# print(rx_angles_2d_array)"
   ]
  },
  {
   "cell_type": "markdown",
   "id": "0ff5fb21-e84f-4cf6-ba9b-eca1bc1659e9",
   "metadata": {},
   "source": [
    "First use Qiskit:"
   ]
  },
  {
   "cell_type": "code",
   "execution_count": 22,
   "id": "3eac9600-8cca-4730-a36f-4e4b629b6cb9",
   "metadata": {
    "tags": []
   },
   "outputs": [],
   "source": [
    "qiskit_high_depth_circ = QuantumCircuit(n)\n",
    "for i in range(layer):\n",
    "    for j in range(n):\n",
    "        qiskit_high_depth_circ.rx(rx_angles_2d_array[i][j], j)\n",
    "    for j in range(n):\n",
    "        qiskit_high_depth_circ.rz(rz_angles_2d_array[i][j], j)\n",
    "    for k in range(n - 1):\n",
    "        qiskit_high_depth_circ.cx(k, k + 1)\n",
    "\n",
    "# print(qiskit_high_depth_circ)"
   ]
  },
  {
   "cell_type": "code",
   "execution_count": 23,
   "id": "9c698db6-5610-4884-a57c-5a890bd41cb7",
   "metadata": {
    "tags": []
   },
   "outputs": [
    {
     "name": "stdout",
     "output_type": "stream",
     "text": [
      "[[ 0.234+0.304j]\n",
      " [ 0.376-0.207j]\n",
      " [ 0.204+0.087j]\n",
      " [ 0.248-0.088j]\n",
      " [ 0.042-0.083j]\n",
      " [ 0.065+0.081j]\n",
      " [ 0.065+0.032j]\n",
      " [-0.117-0.185j]\n",
      " [ 0.147-0.39j ]\n",
      " [ 0.015+0.068j]\n",
      " [ 0.187+0.357j]\n",
      " [ 0.07 -0.197j]\n",
      " [-0.052+0.156j]\n",
      " [ 0.186+0.j   ]\n",
      " [-0.108-0.136j]\n",
      " [ 0.034-0.02j ]]\n",
      "CPU times: user 1.91 s, sys: 12.9 ms, total: 1.93 s\n",
      "Wall time: 1.93 s\n"
     ]
    }
   ],
   "source": [
    "%%time\n",
    "job = execute(qiskit_high_depth_circ, qiskit_backend)\n",
    "qiskit_state_vector_result = job.result().get_statevector()\n",
    "print(nicer_array_display(qiskit_state_vector_result, 3)) # print out the resulted state vector"
   ]
  },
  {
   "cell_type": "markdown",
   "id": "d0c2fe17-1e98-4955-8225-9c033fc4e32f",
   "metadata": {
    "tags": []
   },
   "source": [
    "Next use Braket:"
   ]
  },
  {
   "cell_type": "code",
   "execution_count": 24,
   "id": "c07505f7-a185-4ebf-9b49-142bb52a71d7",
   "metadata": {
    "tags": []
   },
   "outputs": [],
   "source": [
    "braket_high_depth_circ = Circuit()\n",
    "for i in range(layer):\n",
    "    for j in range(n):\n",
    "        braket_high_depth_circ.rx(j, rx_angles_2d_array[i][j])\n",
    "    for j in range(n):\n",
    "        braket_high_depth_circ.rz(j, rz_angles_2d_array[i][j])\n",
    "    for k in range(n - 1):\n",
    "        braket_high_depth_circ.cnot(k, k + 1)\n",
    "\n",
    "# print(braket_high_depth_circ)"
   ]
  },
  {
   "cell_type": "code",
   "execution_count": 25,
   "id": "341b8958-25b1-422b-a995-38fd97474c19",
   "metadata": {
    "scrolled": true,
    "tags": []
   },
   "outputs": [
    {
     "name": "stdout",
     "output_type": "stream",
     "text": [
      "[[ 0.234+0.304j]\n",
      " [ 0.147-0.39j ]\n",
      " [ 0.042-0.083j]\n",
      " [-0.052+0.156j]\n",
      " [ 0.204+0.087j]\n",
      " [ 0.187+0.357j]\n",
      " [ 0.065+0.032j]\n",
      " [-0.108-0.136j]\n",
      " [ 0.376-0.207j]\n",
      " [ 0.015+0.068j]\n",
      " [ 0.065+0.081j]\n",
      " [ 0.186+0.j   ]\n",
      " [ 0.248-0.088j]\n",
      " [ 0.07 -0.197j]\n",
      " [-0.117-0.185j]\n",
      " [ 0.034-0.02j ]]\n",
      "CPU times: user 10.3 s, sys: 60.7 ms, total: 10.3 s\n",
      "Wall time: 10.4 s\n"
     ]
    }
   ],
   "source": [
    "%%time\n",
    "braket_high_depth_circ.state_vector() # convert the circuit to state vector\n",
    "braket_result = braket_device.run(braket_high_depth_circ, shots=0).result().values[0] # extract the result\n",
    "print(nicer_array_display(braket_result, 3)) # print out the resulted state vector"
   ]
  },
  {
   "cell_type": "markdown",
   "id": "984fffb8-b4ef-4b00-b796-dbfe1b46ca8d",
   "metadata": {},
   "source": [
    "We can see that the CPU time for Braket is much higher than Qiskit."
   ]
  },
  {
   "cell_type": "code",
   "execution_count": 26,
   "id": "9440a2db-1da6-4026-9e83-7b03b1919342",
   "metadata": {
    "tags": []
   },
   "outputs": [
    {
     "data": {
      "text/plain": [
       "'1.55.0'"
      ]
     },
     "execution_count": 26,
     "metadata": {},
     "output_type": "execute_result"
    }
   ],
   "source": [
    "import braket._sdk as braket_sdk\n",
    "braket_sdk.__version__"
   ]
  },
  {
   "cell_type": "code",
   "execution_count": 27,
   "id": "6c609a97-b82d-4446-ae6b-e25629dad8e8",
   "metadata": {
    "tags": []
   },
   "outputs": [
    {
     "data": {
      "text/plain": [
       "{'qiskit-terra': '0.25.1', 'qiskit': '0.44.1', 'qiskit-aer': '0.12.0', 'qiskit-ignis': None, 'qiskit-ibmq-provider': '0.20.2', 'qiskit-nature': None, 'qiskit-finance': None, 'qiskit-optimization': None, 'qiskit-machine-learning': None}"
      ]
     },
     "execution_count": 27,
     "metadata": {},
     "output_type": "execute_result"
    }
   ],
   "source": [
    "import qiskit\n",
    "qiskit.__qiskit_version__"
   ]
  },
  {
   "cell_type": "code",
   "execution_count": 28,
   "id": "f4cbdc3d-04fa-4988-afa5-5cb4e493a4fe",
   "metadata": {
    "tags": []
   },
   "outputs": [
    {
     "name": "stdout",
     "output_type": "stream",
     "text": [
      "3.10.11 (main, May 17 2023, 14:30:36) [Clang 14.0.6 ]\n"
     ]
    }
   ],
   "source": [
    "import sys\n",
    "print(sys.version)"
   ]
  }
 ],
 "metadata": {
  "kernelspec": {
   "display_name": "Python 3 (ipykernel)",
   "language": "python",
   "name": "python3"
  },
  "language_info": {
   "codemirror_mode": {
    "name": "ipython",
    "version": 3
   },
   "file_extension": ".py",
   "mimetype": "text/x-python",
   "name": "python",
   "nbconvert_exporter": "python",
   "pygments_lexer": "ipython3",
   "version": "3.10.11"
  }
 },
 "nbformat": 4,
 "nbformat_minor": 5
}
