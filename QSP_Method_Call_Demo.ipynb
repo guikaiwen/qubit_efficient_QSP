{
 "cells": [
  {
   "cell_type": "markdown",
   "id": "f218e918-46e4-4914-930f-dd5d72c62154",
   "metadata": {},
   "source": [
    "# Quantum State Preparation Method Call Demo"
   ]
  },
  {
   "cell_type": "markdown",
   "id": "63686492-b2f0-4b57-be34-f33ba6d64597",
   "metadata": {},
   "source": [
    "This note book will give a simple walk-through of using the pre-implemented quantum state preparation function `qsp_qubit_eff` to execute the following QSP operation:\n",
    "$$U_{\\mathrm{QSP}} |0^n\\rangle = |\\psi\\rangle = \\frac{1}{\\lVert \\mathbf{x}\\rVert}\\sum_{i=0}^{2^{n-1}}x_i |i\\rangle, x_i \\in \\mathbb{C}$$"
   ]
  },
  {
   "cell_type": "markdown",
   "id": "21ccfa82-90fa-4566-9309-fc4d290ca407",
   "metadata": {},
   "source": [
    "In other words, we can prepare an arbitrary n-qubit quantum state (with complex coefficients on all basis) from a n-qubit zero state."
   ]
  },
  {
   "cell_type": "markdown",
   "id": "9c672fb2-9eec-45c5-9897-30c5222fb46d",
   "metadata": {},
   "source": [
    "See https://github.com/guikaiwen/qubit_efficient_QSP/blob/main/%5BDetailed%20Implementation%5D%20QSP.ipynb for a detail implementation walk-through."
   ]
  },
  {
   "cell_type": "code",
   "execution_count": 1,
   "id": "b41dccbb-e6d6-4794-8235-8e71e9dedd1b",
   "metadata": {
    "tags": []
   },
   "outputs": [],
   "source": [
    "# Import Braket libraries\n",
    "import braket\n",
    "from braket.circuits import Circuit\n",
    "from braket.aws import AwsDevice\n",
    "from braket.devices import LocalSimulator\n",
    "\n",
    "import numpy as np\n",
    "import random"
   ]
  },
  {
   "cell_type": "markdown",
   "id": "03e63242-02ef-44f9-bb4c-3fb9d37eddc5",
   "metadata": {},
   "source": [
    "### Construct the QSP Circuit"
   ]
  },
  {
   "cell_type": "markdown",
   "id": "e4c456e0-fc3a-4a84-b634-a01c6babeeb1",
   "metadata": {},
   "source": [
    "We __import__ the quantum state preparation function `qsp_qubit_eff` from `qsp_circ_construction_qubit_efficient.py`, and some helper functions from `helper_functions.py`"
   ]
  },
  {
   "cell_type": "code",
   "execution_count": 2,
   "id": "a6676caa-ab5d-405e-b521-1d0d87eec1bf",
   "metadata": {
    "tags": []
   },
   "outputs": [],
   "source": [
    "from qsp_circ_construction_qubit_efficient import qsp_qubit_eff\n",
    "from helper_functions import *"
   ]
  },
  {
   "cell_type": "markdown",
   "id": "bd50a643-bac4-481d-98b5-b7d5fdc9ffbe",
   "metadata": {},
   "source": [
    "#### Generate Real Wave Function Vector"
   ]
  },
  {
   "cell_type": "markdown",
   "id": "461c5f72-42cf-49a5-b3bf-006221a32426",
   "metadata": {},
   "source": [
    "In order to define the QSP circuit, we would first need to specify the target wave function $\\psi$ we want to get, expressed in the 1D-array form $[x_0, x_1, ..., x_{2^n - 1}]$. This wave function array will then be passed to the `qsp_qubit_eff` as the input parameter to define some quantum rotation gate angles.\n",
    "\n",
    "In many applications it is sufficient to let the amplitude values be positive real numbers.\n",
    "\n",
    "Let's generate a random normalized wave function vector array of size $2^3 = 8$ using the helper functions.\n",
    "\n",
    "We will display the vector values in a column with all values rounded to 3 digits, using the helper functions."
   ]
  },
  {
   "cell_type": "code",
   "execution_count": 3,
   "id": "538a468a-da5e-4c17-8c18-12eb10c78225",
   "metadata": {
    "tags": []
   },
   "outputs": [
    {
     "name": "stdout",
     "output_type": "stream",
     "text": [
      "[[0.317]\n",
      " [0.464]\n",
      " [0.331]\n",
      " [0.039]\n",
      " [0.014]\n",
      " [0.438]\n",
      " [0.156]\n",
      " [0.597]]\n",
      "CPU times: user 221 µs, sys: 12 µs, total: 233 µs\n",
      "Wall time: 235 µs\n"
     ]
    }
   ],
   "source": [
    "%%time\n",
    "np.random.seed(10) # fix a seed for data reproduction purpose, you can change this value to play with other results\n",
    "n = 3 # number of qubits. We can encode 2^n number of values with only n qubits! You can change this parameter to see what will happen for larger QSP tasks\n",
    "normalized_real_array = generate_normalized_real_array(n)\n",
    "print(row_to_column_vector(round_to_three_significant_digits(normalized_real_array, 3))) # print out the wave function vector array for validation"
   ]
  },
  {
   "cell_type": "markdown",
   "id": "81a22f2f-d533-4441-b52d-6adb41a4c7d5",
   "metadata": {},
   "source": [
    "#### Call default construction function"
   ]
  },
  {
   "cell_type": "markdown",
   "id": "cb0c2eec-4948-4040-886e-430c5ed466a1",
   "metadata": {},
   "source": [
    "With the wave function array stored in `normalized_real_array`, we can now call the QSP circuit construction methods to act on an empty Braket circuit, using the generated wave function array to define the rotation angles. You can see that the circuits are consisted by many multi-control Ry gates."
   ]
  },
  {
   "cell_type": "code",
   "execution_count": 4,
   "id": "2e908425-8109-4bf3-bd54-92db2bcd995d",
   "metadata": {
    "tags": []
   },
   "outputs": [
    {
     "name": "stdout",
     "output_type": "stream",
     "text": [
      "T  : |   0    |   1    |2|   3    |4|   5    |6|   7    |8|   9    |10|11|   12   |13|\n",
      "                                                                                      \n",
      "q0 : -Ry(1.72)-C--------X-C--------X-C----------C--------X-C--------X--X--C--------X--\n",
      "               |          |          |          |          |              |           \n",
      "q1 : ----------Ry(1.91)---Ry(1.07)---C--------X-C--------X-C--------X-----C--------X--\n",
      "                                     |          |          |              |           \n",
      "q2 : --------------------------------Ry(2.63)---Ry(3.08)---Ry(0.23)-------Ry(1.94)----\n",
      "\n",
      "T  : |   0    |   1    |2|   3    |4|   5    |6|   7    |8|   9    |10|11|   12   |13|\n"
     ]
    }
   ],
   "source": [
    "initialized_circ = qsp_qubit_eff(normalized_real_array)\n",
    "print(initialized_circ)"
   ]
  },
  {
   "cell_type": "markdown",
   "id": "3a5d9566-4659-4288-932a-f3206eee771e",
   "metadata": {},
   "source": [
    "(Note that the `qsp_qubit_eff` function currently assert the input parameter `normalized_real_array` to be normalized and has length of power of 2)"
   ]
  },
  {
   "cell_type": "markdown",
   "id": "1b40c1a4-c4f5-4d9d-988b-0024e5b1b0d2",
   "metadata": {},
   "source": [
    "### Quantum Circuit Execution"
   ]
  },
  {
   "cell_type": "markdown",
   "id": "5f273ccb-3880-490b-be99-f4cc6450e28a",
   "metadata": {},
   "source": [
    "Now let's test our constructed circuit!\n",
    "\n",
    "We execute the constructed circuit using the Braket's local simulator."
   ]
  },
  {
   "cell_type": "code",
   "execution_count": 5,
   "id": "71cd4671-2feb-429a-ba33-97e17f1d9c77",
   "metadata": {
    "tags": []
   },
   "outputs": [
    {
     "name": "stderr",
     "output_type": "stream",
     "text": [
      "This program uses OpenQASM language features that may not be supported on QPUs or on-demand simulators.\n"
     ]
    },
    {
     "name": "stdout",
     "output_type": "stream",
     "text": [
      "[[0.317+0.j]\n",
      " [0.464+0.j]\n",
      " [0.331+0.j]\n",
      " [0.039+0.j]\n",
      " [0.014+0.j]\n",
      " [0.438+0.j]\n",
      " [0.156+0.j]\n",
      " [0.597+0.j]]\n",
      "CPU times: user 36.1 ms, sys: 1.94 ms, total: 38 ms\n",
      "Wall time: 37.3 ms\n"
     ]
    }
   ],
   "source": [
    "%%time\n",
    "braket_device = LocalSimulator() # define the simulator\n",
    "initialized_circ.state_vector() # convert the circuit to state vector\n",
    "braket_state_vector_result = braket_device.run(initialized_circ, shots=0).result().values[0] # extract the result\n",
    "print(row_to_column_vector(round_to_three_significant_digits(braket_state_vector_result, 3))) # print out the resulted state vector"
   ]
  },
  {
   "cell_type": "markdown",
   "id": "cb1ce8cc-0ea7-46f8-9098-8adf957f1398",
   "metadata": {},
   "source": [
    "Let's see the actual difference between the expected amplitude vector vs what is actually produced"
   ]
  },
  {
   "cell_type": "code",
   "execution_count": 6,
   "id": "1d71045e-73f0-4f6a-a2cc-ad751e85af87",
   "metadata": {
    "tags": []
   },
   "outputs": [
    {
     "name": "stdout",
     "output_type": "stream",
     "text": [
      "[[-5.55111512e-17+0.j]\n",
      " [-2.22044605e-16+0.j]\n",
      " [-5.55111512e-17+0.j]\n",
      " [-6.93889390e-18+0.j]\n",
      " [-6.47051857e-16+0.j]\n",
      " [ 1.11022302e-16+0.j]\n",
      " [ 2.49800181e-16+0.j]\n",
      " [ 1.11022302e-16+0.j]]\n"
     ]
    }
   ],
   "source": [
    "print(row_to_column_vector(np.array(braket_state_vector_result) - np.array(normalized_real_array)))"
   ]
  },
  {
   "cell_type": "markdown",
   "id": "2e6d2452-5e8e-4235-bdd5-60523b642b4c",
   "metadata": {},
   "source": [
    "The result matches perfectly with the desired output!"
   ]
  },
  {
   "cell_type": "markdown",
   "id": "c04df57f-50ef-4cf6-8540-1f8be155b8e1",
   "metadata": {},
   "source": [
    "#### [Advanced] Generate Complex Arbitrary Quantum State"
   ]
  },
  {
   "cell_type": "markdown",
   "id": "87e3270b-a5fc-4d66-afaf-474399bfc794",
   "metadata": {},
   "source": [
    "Now let's generate a size $2^3 = 8$ random array with complex values:"
   ]
  },
  {
   "cell_type": "code",
   "execution_count": 7,
   "id": "cab48377-6d37-4208-b1d2-81810e54bac5",
   "metadata": {
    "tags": []
   },
   "outputs": [
    {
     "name": "stdout",
     "output_type": "stream",
     "text": [
      "[[ 0.222-0.271j]\n",
      " [-0.392-0.337j]\n",
      " [ 0.109+0.152j]\n",
      " [ 0.204+0.371j]\n",
      " [-0.001-0.406j]\n",
      " [-0.225+0.01j ]\n",
      " [-0.247+0.256j]\n",
      " [ 0.213+0.092j]]\n",
      "CPU times: user 456 µs, sys: 55 µs, total: 511 µs\n",
      "Wall time: 494 µs\n"
     ]
    }
   ],
   "source": [
    "%%time\n",
    "np.random.seed(10) # fix a seed for data reproduction purpose, you can change this value to play with other results\n",
    "n = 3 # number of qubits. We can encode 2^n number of values with n qubits!\n",
    "normalized_complex_array = generate_normalized_complex_array(n)\n",
    "print(row_to_column_vector(round_to_three_significant_digits(normalized_complex_array, 3)))"
   ]
  },
  {
   "cell_type": "markdown",
   "id": "2e955d5e-c10a-4a20-be43-1fc94f5c84c1",
   "metadata": {
    "tags": []
   },
   "source": [
    "We can construct the circuit using the same `qsp_qubit_eff` function. Notice that there is another layer of multi-control Rz gate added on top of the multi-control Ry gate to pump in the phase values."
   ]
  },
  {
   "cell_type": "code",
   "execution_count": 8,
   "id": "53c68186-4d8a-4945-b5ea-8a4d852ca330",
   "metadata": {
    "tags": []
   },
   "outputs": [
    {
     "name": "stdout",
     "output_type": "stream",
     "text": [
      "T  : |   0    |   1    |   2    |   3    |4|   5    |   6    |7|   8    |    9    |10|   11   |   12   |13|   14   |   15   |16|17|   18   |   19    |20|\n",
      "                                                                                                                                                         \n",
      "q0 : -Ry(1.36)-Rz(1.39)-C--------C--------X-C--------C--------X-C--------C------------C--------C--------X--C--------C--------X--X--C--------C---------X--\n",
      "                        |        |          |        |          |        |            |        |           |        |              |        |            \n",
      "q1 : -------------------Ry(1.48)-Rz(0.61)---Ry(1.28)-Rz(2.67)---C--------C---------X--C--------C--------X--C--------C--------X-----C--------C---------X--\n",
      "                                                                |        |            |        |           |        |              |        |            \n",
      "q2 : -----------------------------------------------------------Ry(1.16)-Rz(-1.93)----Ry(1.01)-Rz(4.67)----Ry(2.31)-Rz(0.12)-------Ry(1.95)-Rz(-1.55)----\n",
      "\n",
      "T  : |   0    |   1    |   2    |   3    |4|   5    |   6    |7|   8    |    9    |10|   11   |   12   |13|   14   |   15   |16|17|   18   |   19    |20|\n"
     ]
    }
   ],
   "source": [
    "initialized_circ = qsp_qubit_eff(normalized_complex_array)\n",
    "print(initialized_circ)"
   ]
  },
  {
   "cell_type": "markdown",
   "id": "16c168ae-e286-4360-abba-acb8a997e486",
   "metadata": {},
   "source": [
    "We execute the constructed circuit using the Braket's local simulator:"
   ]
  },
  {
   "cell_type": "code",
   "execution_count": 9,
   "id": "80492286-fe58-46fb-bb40-3bb8235f6a6e",
   "metadata": {
    "tags": []
   },
   "outputs": [
    {
     "name": "stderr",
     "output_type": "stream",
     "text": [
      "This program uses OpenQASM language features that may not be supported on QPUs or on-demand simulators.\n"
     ]
    },
    {
     "name": "stdout",
     "output_type": "stream",
     "text": [
      "[[ 0.109-0.333j]\n",
      " [-0.488-0.172j]\n",
      " [ 0.157+0.102j]\n",
      " [ 0.324+0.272j]\n",
      " [-0.148-0.378j]\n",
      " [-0.206+0.091j]\n",
      " [-0.137+0.328j]\n",
      " [ 0.232+0.008j]]\n",
      "CPU times: user 15 ms, sys: 984 µs, total: 16 ms\n",
      "Wall time: 15.2 ms\n"
     ]
    }
   ],
   "source": [
    "%%time\n",
    "braket_device = LocalSimulator() # define the simulator\n",
    "initialized_circ.state_vector() # convert the circuit to state vector\n",
    "braket_state_vector_result = braket_device.run(initialized_circ, shots=0).result().values[0] # extract the result\n",
    "print(row_to_column_vector(round_to_three_significant_digits(braket_state_vector_result, 3))) # print out the resulted state vector"
   ]
  },
  {
   "cell_type": "markdown",
   "id": "6d6dc819-0ff4-4d10-b986-5fc0f809ef10",
   "metadata": {},
   "source": [
    "Notice that the circuit state vector output looks very different from the generated vector input. Why is this the case? This is because we have a global phase difference! In other words, instead of having the exact state $|\\psi\\rangle$, we instead have $e^{i\\theta}|\\psi\\rangle$. This additional global phase does not carry any physical meanings, nor does it affect the final measurement results on the real quantum computer."
   ]
  },
  {
   "cell_type": "markdown",
   "id": "95f6d920-03f9-4f13-bc57-fc6b733aa53e",
   "metadata": {},
   "source": [
    "We can perform the test below to see if circuit state vector result is the same as the input vector but only with a global phase difference. For the circuit state vector result $|\\psi'\\rangle = e^{i\\theta}|\\psi\\rangle$ and input vector $|\\psi\\rangle$, we should expect $||\\langle\\psi'|\\psi\\rangle|| = 1$"
   ]
  },
  {
   "cell_type": "code",
   "execution_count": 10,
   "id": "bd95d702-15ce-4ecf-90e6-a7a91ceb079d",
   "metadata": {
    "tags": []
   },
   "outputs": [
    {
     "name": "stdout",
     "output_type": "stream",
     "text": [
      "1.0000000000000002\n"
     ]
    }
   ],
   "source": [
    "print(np.abs(np.dot(normalized_complex_array, np.conj(braket_state_vector_result))))"
   ]
  },
  {
   "cell_type": "markdown",
   "id": "8b545dfa-3dc6-4d22-9dfd-03b6615ad2ae",
   "metadata": {},
   "source": [
    "We can also try to compute the phase difference $\\theta_i$ between each pair of basis:"
   ]
  },
  {
   "cell_type": "code",
   "execution_count": 11,
   "id": "d17e36fa-a246-40f3-8fb0-51314b4c6ff2",
   "metadata": {
    "tags": []
   },
   "outputs": [
    {
     "name": "stdout",
     "output_type": "stream",
     "text": [
      "[0.37114178 0.37114178 0.37114178 0.37114178 0.37114178 0.37114178\n",
      " 0.37114178 0.37114178]\n"
     ]
    }
   ],
   "source": [
    "phase_v1 = np.angle(normalized_complex_array)\n",
    "phase_v2 = np.angle(braket_state_vector_result)\n",
    "\n",
    "# Compute the global phase difference between v1 and v2\n",
    "global_phase_difference = phase_v1 - phase_v2\n",
    "global_phase_difference = (global_phase_difference + np.pi) % (2 * np.pi) - np.pi\n",
    "print(global_phase_difference)"
   ]
  },
  {
   "cell_type": "markdown",
   "id": "4cf001d4-71fc-44b7-bc96-2864ca6abd82",
   "metadata": {},
   "source": [
    "You can see that all the phase differences are the same across all values (and thus a global phase)!"
   ]
  },
  {
   "cell_type": "markdown",
   "id": "2a00a3e6-94ab-4275-8a01-a4930074cbe7",
   "metadata": {
    "tags": []
   },
   "source": [
    "Now we can add the phase correction to the circuit state vector output:"
   ]
  },
  {
   "cell_type": "code",
   "execution_count": 12,
   "id": "a6bcacce-1b50-4180-8128-35008f2aaa67",
   "metadata": {
    "tags": []
   },
   "outputs": [
    {
     "name": "stdout",
     "output_type": "stream",
     "text": [
      "[[ 0.222-0.271j]\n",
      " [-0.392-0.337j]\n",
      " [ 0.109+0.152j]\n",
      " [ 0.204+0.371j]\n",
      " [-0.001-0.406j]\n",
      " [-0.225+0.01j ]\n",
      " [-0.247+0.256j]\n",
      " [ 0.213+0.092j]]\n"
     ]
    }
   ],
   "source": [
    "global_phase_corrected_braket_state_vector_result = braket_state_vector_result * np.exp(1j * global_phase_difference[0])\n",
    "print(row_to_column_vector(round_to_three_significant_digits(global_phase_corrected_braket_state_vector_result, 3)))"
   ]
  },
  {
   "cell_type": "markdown",
   "id": "6b7d7f1f-1531-49d3-a728-fed91ded4050",
   "metadata": {},
   "source": [
    "This is now the same as the input vector.\n",
    "\n",
    "Printing out the actual differences:"
   ]
  },
  {
   "cell_type": "code",
   "execution_count": 13,
   "id": "70300205-d787-4606-86aa-edc845d88e64",
   "metadata": {
    "tags": []
   },
   "outputs": [
    {
     "name": "stdout",
     "output_type": "stream",
     "text": [
      "[[-2.77555756e-17-5.55111512e-17j]\n",
      " [ 1.11022302e-16+0.00000000e+00j]\n",
      " [ 6.93889390e-17+1.11022302e-16j]\n",
      " [ 0.00000000e+00+0.00000000e+00j]\n",
      " [-3.75133952e-17-1.66533454e-16j]\n",
      " [-8.32667268e-17+2.42861287e-17j]\n",
      " [-5.55111512e-17-5.55111512e-17j]\n",
      " [ 0.00000000e+00+1.38777878e-17j]]\n"
     ]
    }
   ],
   "source": [
    "print(row_to_column_vector(global_phase_corrected_braket_state_vector_result - normalized_complex_array))"
   ]
  },
  {
   "cell_type": "markdown",
   "id": "94219786-a0e0-4d3d-9e5b-a7d68598b5a2",
   "metadata": {},
   "source": [
    "#### [Optional] Generate Sparse Arbitrary Quantum State"
   ]
  },
  {
   "cell_type": "markdown",
   "id": "b32ffdee-336a-4a9f-8ddb-8112e4a89adb",
   "metadata": {},
   "source": [
    "Now, let's create a a w-like state: $|\\psi\\rangle = \\alpha|001\\rangle + \\beta|010\\rangle + \\gamma|100\\rangle$ and see what happens.\n",
    "\n",
    "We first create a 1d array of size $2^3 = 8$ with arbitrary $\\alpha$, $\\beta$, and $\\gamma$ values at their proper postion, and fill the rest postions with $0$s:"
   ]
  },
  {
   "cell_type": "code",
   "execution_count": 14,
   "id": "ea0fb5fa-a58e-4c42-a388-db41cc166c3c",
   "metadata": {},
   "outputs": [
    {
     "name": "stdout",
     "output_type": "stream",
     "text": [
      "[[0.]\n",
      " [0.]\n",
      " [0.]\n",
      " [0.]\n",
      " [0.]\n",
      " [0.]\n",
      " [0.]\n",
      " [1.]]\n"
     ]
    }
   ],
   "source": [
    "random.seed(10)\n",
    "w_like_state = generate_normalized_real_sparse_array(3, [7])\n",
    "print(row_to_column_vector(round_to_three_significant_digits(w_like_state, 3)))"
   ]
  },
  {
   "cell_type": "markdown",
   "id": "349758bb-a42e-4280-97ec-b7026b197880",
   "metadata": {
    "tags": []
   },
   "source": [
    "Now, call the same `qsp_qubit_eff` function to generate the circuit:"
   ]
  },
  {
   "cell_type": "code",
   "execution_count": 15,
   "id": "920458f8-3fbb-48a6-a9c7-908f9ba12414",
   "metadata": {},
   "outputs": [
    {
     "name": "stdout",
     "output_type": "stream",
     "text": [
      "T  : |   0    |   1    |   2    |\n",
      "                                 \n",
      "q0 : -Ry(3.14)-C--------C--------\n",
      "               |        |        \n",
      "q1 : ----------Ry(3.14)-C--------\n",
      "                        |        \n",
      "q2 : -------------------Ry(3.14)-\n",
      "\n",
      "T  : |   0    |   1    |   2    |\n"
     ]
    }
   ],
   "source": [
    "initialized_circ = qsp_qubit_eff(w_like_state)\n",
    "print(initialized_circ)"
   ]
  },
  {
   "cell_type": "markdown",
   "id": "ea12522c-743c-4976-9505-53ecbc3dafb6",
   "metadata": {},
   "source": [
    "We can see that we only need $3$ multi-control Ry gates instead of $7$.\n",
    "\n",
    "Now, execute the circuit on the Braket simulator:"
   ]
  },
  {
   "cell_type": "code",
   "execution_count": 16,
   "id": "12c617fb-fae7-42dc-aa90-c330bebca3d5",
   "metadata": {
    "tags": []
   },
   "outputs": [
    {
     "name": "stderr",
     "output_type": "stream",
     "text": [
      "This program uses OpenQASM language features that may not be supported on QPUs or on-demand simulators.\n"
     ]
    },
    {
     "name": "stdout",
     "output_type": "stream",
     "text": [
      "[[0.+0.j]\n",
      " [0.+0.j]\n",
      " [0.+0.j]\n",
      " [0.+0.j]\n",
      " [0.+0.j]\n",
      " [0.+0.j]\n",
      " [0.+0.j]\n",
      " [1.+0.j]]\n"
     ]
    }
   ],
   "source": [
    "initialized_circ.state_vector() # convert the circuit to state vector\n",
    "braket_state_vector_result = braket_device.run(initialized_circ, shots=0).result().values[0] # extract the result\n",
    "print(row_to_column_vector(round_to_three_significant_digits(braket_state_vector_result, 3))) # print out the resulted state vector"
   ]
  },
  {
   "cell_type": "markdown",
   "id": "cef38455-9e05-4d4e-8621-cf485ff205e5",
   "metadata": {
    "tags": []
   },
   "source": [
    "The result matches the desired output."
   ]
  },
  {
   "cell_type": "markdown",
   "id": "5962c60d-ce1d-4d4b-a3b1-5f2c043b2c37",
   "metadata": {},
   "source": [
    "<span style=\"color:orange;\"> As mentioned in the beginning, there could be some further optimization to further reduce the classical pre-comuting cost, and possibly some quantum gate cost for general arbitrary sparse states. </span>"
   ]
  },
  {
   "cell_type": "code",
   "execution_count": 17,
   "id": "95ca5e3a-a554-4ea1-b683-1eb2137d4615",
   "metadata": {
    "tags": []
   },
   "outputs": [
    {
     "data": {
      "text/plain": [
       "'1.55.0'"
      ]
     },
     "execution_count": 17,
     "metadata": {},
     "output_type": "execute_result"
    }
   ],
   "source": [
    "import braket._sdk as braket_sdk\n",
    "braket_sdk.__version__"
   ]
  },
  {
   "cell_type": "code",
   "execution_count": 18,
   "id": "c0b1d883-4bdf-484a-aa6b-1926094f7303",
   "metadata": {
    "tags": []
   },
   "outputs": [
    {
     "name": "stdout",
     "output_type": "stream",
     "text": [
      "3.10.11 (main, May 17 2023, 14:30:36) [Clang 14.0.6 ]\n"
     ]
    }
   ],
   "source": [
    "import sys\n",
    "print(sys.version)"
   ]
  }
 ],
 "metadata": {
  "kernelspec": {
   "display_name": "Python 3 (ipykernel)",
   "language": "python",
   "name": "python3"
  },
  "language_info": {
   "codemirror_mode": {
    "name": "ipython",
    "version": 3
   },
   "file_extension": ".py",
   "mimetype": "text/x-python",
   "name": "python",
   "nbconvert_exporter": "python",
   "pygments_lexer": "ipython3",
   "version": "3.10.11"
  }
 },
 "nbformat": 4,
 "nbformat_minor": 5
}
