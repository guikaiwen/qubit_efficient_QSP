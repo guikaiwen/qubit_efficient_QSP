{
 "cells": [
  {
   "cell_type": "markdown",
   "id": "f218e918-46e4-4914-930f-dd5d72c62154",
   "metadata": {},
   "source": [
    "# Quantum State Preparation Method Call Demo"
   ]
  },
  {
   "cell_type": "markdown",
   "id": "63686492-b2f0-4b57-be34-f33ba6d64597",
   "metadata": {},
   "source": [
    "This notebook will give a simple walk-through of using the pre-implemented quantum state preparation (QSP) function `qsp_qubit_eff` to execute the following QSP operation:\n",
    "$$U_{\\mathrm{QSP}} |0^n\\rangle = |\\psi\\rangle = \\frac{1}{\\lVert \\mathbf{x}\\rVert}\\sum_{i=0}^{2^{n-1}}x_i |i\\rangle, x_i \\in \\mathbb{C}$$"
   ]
  },
  {
   "cell_type": "markdown",
   "id": "9c672fb2-9eec-45c5-9897-30c5222fb46d",
   "metadata": {},
   "source": [
    "In other words, we can prepare an arbitrary $n$-qubit quantum state (with complex amplitudes) from an $n$-qubit product state. See https://github.com/guikaiwen/qubit_efficient_QSP/blob/main/%5BDetailed%20Implementation%5D%20QSP.ipynb for a detail implementation walk-through."
   ]
  },
  {
   "cell_type": "code",
   "execution_count": 1,
   "id": "b41dccbb-e6d6-4794-8235-8e71e9dedd1b",
   "metadata": {
    "tags": []
   },
   "outputs": [],
   "source": [
    "# Import Braket libraries\n",
    "import braket\n",
    "from braket.circuits import Circuit\n",
    "from braket.aws import AwsDevice\n",
    "from braket.devices import LocalSimulator\n",
    "\n",
    "# Import the QSP function and some helper functions\n",
    "from qsp_circ_construction_qubit_efficient import qsp_qubit_eff\n",
    "from helper_functions import *"
   ]
  },
  {
   "cell_type": "markdown",
   "id": "fb839c1f-71a1-4265-ab33-4b8c34b0a4fc",
   "metadata": {},
   "source": [
    "## A Simple Example"
   ]
  },
  {
   "cell_type": "markdown",
   "id": "1dff991c-3257-4162-b157-7d94493fe8ad",
   "metadata": {},
   "source": [
    "We will prepare the state $|\\psi\\rangle = \\sqrt{0.03}|000\\rangle + \\sqrt{0.07}|001\\rangle + \\sqrt{0.15}|010\\rangle + \\sqrt{0.05}|011\\rangle + \\sqrt{0.1}|100\\rangle + \\sqrt{0.3}|101\\rangle + \\sqrt{0.2}|110\\rangle + \\sqrt{0.1}|111\\rangle$\n",
    "\n",
    "__Input:__ a python array $[\\sqrt{0.03}, \\sqrt{0.07}, \\sqrt{0.15}, \\sqrt{0.05}, \\sqrt{0.1}, \\sqrt{0.3}, \\sqrt{0.2}, \\sqrt{0.1}]$"
   ]
  },
  {
   "cell_type": "code",
   "execution_count": 2,
   "id": "6f586797-63df-49a3-83f7-ea99a547dd38",
   "metadata": {
    "tags": []
   },
   "outputs": [
    {
     "name": "stdout",
     "output_type": "stream",
     "text": [
      "[[0.173]\n",
      " [0.265]\n",
      " [0.387]\n",
      " [0.224]\n",
      " [0.316]\n",
      " [0.548]\n",
      " [0.447]\n",
      " [0.316]]\n"
     ]
    }
   ],
   "source": [
    "my_amplitude_vec = [np.sqrt(0.03), np.sqrt(0.07), np.sqrt(0.15), np.sqrt(0.05), np.sqrt(0.1), np.sqrt(0.3), np.sqrt(0.2), np.sqrt(0.1)]\n",
    "print(row_to_column_vector(round_to_three_significant_digits(my_amplitude_vec, 3)))"
   ]
  },
  {
   "cell_type": "markdown",
   "id": "661c45d9-4293-41dd-a0b7-92e382bb73b1",
   "metadata": {},
   "source": [
    "__output:__ the correponding quantum circuit that creates this state from the $|000\\rangle$ state"
   ]
  },
  {
   "cell_type": "code",
   "execution_count": 3,
   "id": "2a7d30a8-7cca-47bf-a72f-e64f6a5316f3",
   "metadata": {
    "tags": []
   },
   "outputs": [
    {
     "name": "stdout",
     "output_type": "stream",
     "text": [
      "T  : |   0    |   1    |2|   3    |4|   5    |6|   7    |8|   9    |10|11|   12   |13|\n",
      "                                                                                      \n",
      "q0 : -Ry(1.98)-C--------X-C--------X-C----------C--------X-C--------X--X--C--------X--\n",
      "               |          |          |          |          |              |           \n",
      "q1 : ----------Ry(1.43)---Ry(1.91)---C--------X-C--------X-C--------X-----C--------X--\n",
      "                                     |          |          |              |           \n",
      "q2 : --------------------------------Ry(1.23)---Ry(2.09)---Ry(1.05)-------Ry(1.98)----\n",
      "\n",
      "T  : |   0    |   1    |2|   3    |4|   5    |6|   7    |8|   9    |10|11|   12   |13|\n"
     ]
    }
   ],
   "source": [
    "initialized_circ = qsp_qubit_eff(my_amplitude_vec)\n",
    "print(initialized_circ)"
   ]
  },
  {
   "cell_type": "markdown",
   "id": "9783d4d2-d891-47cf-9a63-51eaca705606",
   "metadata": {},
   "source": [
    "### Verify on the Simulator"
   ]
  },
  {
   "cell_type": "markdown",
   "id": "5f273ccb-3880-490b-be99-f4cc6450e28a",
   "metadata": {},
   "source": [
    "Now let's test our constructed circuit on the Braket local simulator!"
   ]
  },
  {
   "cell_type": "code",
   "execution_count": 4,
   "id": "71cd4671-2feb-429a-ba33-97e17f1d9c77",
   "metadata": {
    "tags": []
   },
   "outputs": [
    {
     "name": "stderr",
     "output_type": "stream",
     "text": [
      "This program uses OpenQASM language features that may not be supported on QPUs or on-demand simulators.\n"
     ]
    },
    {
     "name": "stdout",
     "output_type": "stream",
     "text": [
      "[[0.173+0.j]\n",
      " [0.265+0.j]\n",
      " [0.387+0.j]\n",
      " [0.224+0.j]\n",
      " [0.316+0.j]\n",
      " [0.548+0.j]\n",
      " [0.447+0.j]\n",
      " [0.316+0.j]]\n"
     ]
    }
   ],
   "source": [
    "braket_device = LocalSimulator() # define the simulator\n",
    "initialized_circ.state_vector() # convert the circuit to state vector\n",
    "braket_state_vector_result = braket_device.run(initialized_circ, shots=0).result().values[0] # extract the result\n",
    "print(row_to_column_vector(round_to_three_significant_digits(braket_state_vector_result, 3))) # print out the resulted state vector"
   ]
  },
  {
   "cell_type": "markdown",
   "id": "cb1ce8cc-0ea7-46f8-9098-8adf957f1398",
   "metadata": {},
   "source": [
    "Let's see the actual difference between the expected amplitude vector vs what is actually produced"
   ]
  },
  {
   "cell_type": "code",
   "execution_count": 5,
   "id": "1d71045e-73f0-4f6a-a2cc-ad751e85af87",
   "metadata": {
    "tags": []
   },
   "outputs": [
    {
     "name": "stdout",
     "output_type": "stream",
     "text": [
      "[[-2.77555756e-17+0.j]\n",
      " [-5.55111512e-17+0.j]\n",
      " [ 0.00000000e+00+0.j]\n",
      " [-2.77555756e-17+0.j]\n",
      " [-5.55111512e-17+0.j]\n",
      " [ 1.11022302e-16+0.j]\n",
      " [ 0.00000000e+00+0.j]\n",
      " [ 5.55111512e-17+0.j]]\n"
     ]
    }
   ],
   "source": [
    "print(row_to_column_vector(np.array(braket_state_vector_result) - np.array(my_amplitude_vec)))"
   ]
  },
  {
   "cell_type": "markdown",
   "id": "a015c079-7521-4085-9c2b-d310555a0509",
   "metadata": {},
   "source": [
    "The result matches perfectly with the desired output!"
   ]
  },
  {
   "cell_type": "markdown",
   "id": "1aa3a54c-2a32-4ee4-9a9b-a4fb9f92f9f3",
   "metadata": {},
   "source": [
    "-----------------------------------"
   ]
  },
  {
   "cell_type": "markdown",
   "id": "c04df57f-50ef-4cf6-8540-1f8be155b8e1",
   "metadata": {},
   "source": [
    "## [Advanced] Generate Complex Arbitrary Quantum State"
   ]
  },
  {
   "cell_type": "markdown",
   "id": "87e3270b-a5fc-4d66-afaf-474399bfc794",
   "metadata": {},
   "source": [
    "Now let's generate a size $2^3 = 8$ random array with complex values:"
   ]
  },
  {
   "cell_type": "code",
   "execution_count": 6,
   "id": "1b3dd21d-0fe6-4db7-8aa6-276e060418c9",
   "metadata": {},
   "outputs": [],
   "source": [
    "# Import some basic python package\n",
    "import math\n",
    "import numpy as np\n",
    "import random"
   ]
  },
  {
   "cell_type": "code",
   "execution_count": 7,
   "id": "cab48377-6d37-4208-b1d2-81810e54bac5",
   "metadata": {
    "tags": []
   },
   "outputs": [
    {
     "name": "stdout",
     "output_type": "stream",
     "text": [
      "[[ 0.222-0.271j]\n",
      " [-0.392-0.337j]\n",
      " [ 0.109+0.152j]\n",
      " [ 0.204+0.371j]\n",
      " [-0.001-0.406j]\n",
      " [-0.225+0.01j ]\n",
      " [-0.247+0.256j]\n",
      " [ 0.213+0.092j]]\n"
     ]
    }
   ],
   "source": [
    "np.random.seed(10) # fix a seed for data reproduction purpose, you can change this value to play with other results\n",
    "n = 3 # number of qubits. We can encode 2^n number of values with n qubits!\n",
    "normalized_complex_array = generate_normalized_complex_array(n)\n",
    "print(row_to_column_vector(round_to_three_significant_digits(normalized_complex_array, 3)))"
   ]
  },
  {
   "cell_type": "markdown",
   "id": "2e955d5e-c10a-4a20-be43-1fc94f5c84c1",
   "metadata": {
    "tags": []
   },
   "source": [
    "We can construct the circuit using the same `qsp_qubit_eff` function. Notice that there is another layer of multi-control Rz gate added on top of the multi-control Ry gate to pump in the phase values."
   ]
  },
  {
   "cell_type": "code",
   "execution_count": 8,
   "id": "53c68186-4d8a-4945-b5ea-8a4d852ca330",
   "metadata": {
    "tags": []
   },
   "outputs": [
    {
     "name": "stdout",
     "output_type": "stream",
     "text": [
      "T  : |   0    |   1    |   2    |   3    |4|   5    |   6    |7|   8    |    9    |10|   11   |   12   |13|   14   |   15   |16|17|   18   |   19    |20|\n",
      "                                                                                                                                                         \n",
      "q0 : -Ry(1.36)-Rz(1.39)-C--------C--------X-C--------C--------X-C--------C------------C--------C--------X--C--------C--------X--X--C--------C---------X--\n",
      "                        |        |          |        |          |        |            |        |           |        |              |        |            \n",
      "q1 : -------------------Ry(1.48)-Rz(0.61)---Ry(1.28)-Rz(2.67)---C--------C---------X--C--------C--------X--C--------C--------X-----C--------C---------X--\n",
      "                                                                |        |            |        |           |        |              |        |            \n",
      "q2 : -----------------------------------------------------------Ry(1.16)-Rz(-1.93)----Ry(1.01)-Rz(4.67)----Ry(2.31)-Rz(0.12)-------Ry(1.95)-Rz(-1.55)----\n",
      "\n",
      "T  : |   0    |   1    |   2    |   3    |4|   5    |   6    |7|   8    |    9    |10|   11   |   12   |13|   14   |   15   |16|17|   18   |   19    |20|\n"
     ]
    }
   ],
   "source": [
    "initialized_circ = qsp_qubit_eff(normalized_complex_array)\n",
    "print(initialized_circ)"
   ]
  },
  {
   "cell_type": "markdown",
   "id": "16c168ae-e286-4360-abba-acb8a997e486",
   "metadata": {},
   "source": [
    "We execute the constructed circuit using the Braket's local simulator:"
   ]
  },
  {
   "cell_type": "code",
   "execution_count": 9,
   "id": "80492286-fe58-46fb-bb40-3bb8235f6a6e",
   "metadata": {
    "tags": []
   },
   "outputs": [
    {
     "name": "stderr",
     "output_type": "stream",
     "text": [
      "This program uses OpenQASM language features that may not be supported on QPUs or on-demand simulators.\n"
     ]
    },
    {
     "name": "stdout",
     "output_type": "stream",
     "text": [
      "[[ 0.109-0.333j]\n",
      " [-0.488-0.172j]\n",
      " [ 0.157+0.102j]\n",
      " [ 0.324+0.272j]\n",
      " [-0.148-0.378j]\n",
      " [-0.206+0.091j]\n",
      " [-0.137+0.328j]\n",
      " [ 0.232+0.008j]]\n"
     ]
    }
   ],
   "source": [
    "braket_device = LocalSimulator() # define the simulator\n",
    "initialized_circ.state_vector() # convert the circuit to state vector\n",
    "braket_state_vector_result = braket_device.run(initialized_circ, shots=0).result().values[0] # extract the result\n",
    "print(row_to_column_vector(round_to_three_significant_digits(braket_state_vector_result, 3))) # print out the resulted state vector"
   ]
  },
  {
   "cell_type": "markdown",
   "id": "6d6dc819-0ff4-4d10-b986-5fc0f809ef10",
   "metadata": {},
   "source": [
    "Notice that the circuit state vector output looks very different from the generated vector input. Why is this the case? This is because we have a global phase difference! In other words, instead of having the exact state $|\\psi\\rangle$, we instead have $e^{i\\theta}|\\psi\\rangle$. This additional global phase does not carry any physical meanings, nor does it affect the final measurement results on the real quantum computer."
   ]
  },
  {
   "cell_type": "markdown",
   "id": "95f6d920-03f9-4f13-bc57-fc6b733aa53e",
   "metadata": {},
   "source": [
    "We can perform the test below to see if circuit state vector result is the same as the input vector but only with a global phase difference. For the circuit state vector result $|\\psi'\\rangle = e^{i\\theta}|\\psi\\rangle$ and input vector $|\\psi\\rangle$, we should expect $|\\langle\\psi'|\\psi\\rangle| = 1$"
   ]
  },
  {
   "cell_type": "code",
   "execution_count": 10,
   "id": "bd95d702-15ce-4ecf-90e6-a7a91ceb079d",
   "metadata": {
    "tags": []
   },
   "outputs": [
    {
     "name": "stdout",
     "output_type": "stream",
     "text": [
      "1.0000000000000002\n"
     ]
    }
   ],
   "source": [
    "print(np.abs(np.dot(normalized_complex_array, np.conj(braket_state_vector_result))))"
   ]
  },
  {
   "cell_type": "markdown",
   "id": "8b545dfa-3dc6-4d22-9dfd-03b6615ad2ae",
   "metadata": {},
   "source": [
    "We can also try to compute the phase difference $\\theta_i$ between each pair of basis:"
   ]
  },
  {
   "cell_type": "code",
   "execution_count": 11,
   "id": "d17e36fa-a246-40f3-8fb0-51314b4c6ff2",
   "metadata": {
    "tags": []
   },
   "outputs": [
    {
     "name": "stdout",
     "output_type": "stream",
     "text": [
      "[0.37114178 0.37114178 0.37114178 0.37114178 0.37114178 0.37114178\n",
      " 0.37114178 0.37114178]\n"
     ]
    }
   ],
   "source": [
    "phase_v1_arr = np.angle(normalized_complex_array)\n",
    "phase_v2_arr = np.angle(braket_state_vector_result)\n",
    "\n",
    "# Compute the global phase difference between v1 and v2\n",
    "global_phase_diff_arr = phase_v1_arr - phase_v2_arr\n",
    "global_phase_diff_arr = (global_phase_diff_arr + np.pi) % (2 * np.pi) - np.pi\n",
    "print(global_phase_diff_arr)"
   ]
  },
  {
   "cell_type": "markdown",
   "id": "4cf001d4-71fc-44b7-bc96-2864ca6abd82",
   "metadata": {},
   "source": [
    "You can see that all the phase differences are the same across all values (and thus a global phase)!"
   ]
  },
  {
   "cell_type": "markdown",
   "id": "2a00a3e6-94ab-4275-8a01-a4930074cbe7",
   "metadata": {
    "tags": []
   },
   "source": [
    "Now we can add the phase correction to the circuit state vector output:"
   ]
  },
  {
   "cell_type": "code",
   "execution_count": 12,
   "id": "a6bcacce-1b50-4180-8128-35008f2aaa67",
   "metadata": {
    "tags": []
   },
   "outputs": [
    {
     "name": "stdout",
     "output_type": "stream",
     "text": [
      "[[ 0.222-0.271j]\n",
      " [-0.392-0.337j]\n",
      " [ 0.109+0.152j]\n",
      " [ 0.204+0.371j]\n",
      " [-0.001-0.406j]\n",
      " [-0.225+0.01j ]\n",
      " [-0.247+0.256j]\n",
      " [ 0.213+0.092j]]\n"
     ]
    }
   ],
   "source": [
    "global_phase_corrected_braket_state_vector_result = braket_state_vector_result * np.exp(1j * global_phase_diff_arr[0])\n",
    "print(row_to_column_vector(round_to_three_significant_digits(global_phase_corrected_braket_state_vector_result, 3)))"
   ]
  },
  {
   "cell_type": "markdown",
   "id": "6b7d7f1f-1531-49d3-a728-fed91ded4050",
   "metadata": {},
   "source": [
    "This is now the same as the input vector.\n",
    "\n",
    "Printing out the actual differences:"
   ]
  },
  {
   "cell_type": "code",
   "execution_count": 13,
   "id": "70300205-d787-4606-86aa-edc845d88e64",
   "metadata": {
    "tags": []
   },
   "outputs": [
    {
     "name": "stdout",
     "output_type": "stream",
     "text": [
      "[[-2.77555756e-17-5.55111512e-17j]\n",
      " [ 1.11022302e-16+0.00000000e+00j]\n",
      " [ 6.93889390e-17+1.11022302e-16j]\n",
      " [ 0.00000000e+00+0.00000000e+00j]\n",
      " [-3.75133952e-17-1.66533454e-16j]\n",
      " [-8.32667268e-17+2.42861287e-17j]\n",
      " [-5.55111512e-17-5.55111512e-17j]\n",
      " [ 0.00000000e+00+1.38777878e-17j]]\n"
     ]
    }
   ],
   "source": [
    "print(row_to_column_vector(global_phase_corrected_braket_state_vector_result - normalized_complex_array))"
   ]
  },
  {
   "cell_type": "markdown",
   "id": "94219786-a0e0-4d3d-9e5b-a7d68598b5a2",
   "metadata": {},
   "source": [
    "## [Optional] Generate Sparse Arbitrary Quantum State"
   ]
  },
  {
   "cell_type": "markdown",
   "id": "b32ffdee-336a-4a9f-8ddb-8112e4a89adb",
   "metadata": {},
   "source": [
    "Now, let's create a a w-like state: $|\\psi\\rangle = \\alpha|001\\rangle + \\beta|010\\rangle + \\gamma|100\\rangle$ and see what happens.\n",
    "\n",
    "We first create a 1d array of size $2^3 = 8$ with arbitrary $\\alpha$, $\\beta$, and $\\gamma$ values at their proper postion, and fill the rest postions with $0$s:"
   ]
  },
  {
   "cell_type": "code",
   "execution_count": 14,
   "id": "ea0fb5fa-a58e-4c42-a388-db41cc166c3c",
   "metadata": {},
   "outputs": [
    {
     "name": "stdout",
     "output_type": "stream",
     "text": [
      "[[0.   ]\n",
      " [0.622]\n",
      " [0.467]\n",
      " [0.   ]\n",
      " [0.629]\n",
      " [0.   ]\n",
      " [0.   ]\n",
      " [0.   ]]\n"
     ]
    }
   ],
   "source": [
    "random.seed(10)\n",
    "w_like_state = generate_normalized_real_sparse_array(3, [1, 2, 4]) # |001> is at location 1, |010> is at location 2, |100> is at location 4\n",
    "print(row_to_column_vector(round_to_three_significant_digits(w_like_state, 3)))"
   ]
  },
  {
   "cell_type": "markdown",
   "id": "349758bb-a42e-4280-97ec-b7026b197880",
   "metadata": {
    "tags": []
   },
   "source": [
    "Now, call the same `qsp_qubit_eff` function to generate the circuit:"
   ]
  },
  {
   "cell_type": "code",
   "execution_count": 15,
   "id": "920458f8-3fbb-48a6-a9c7-908f9ba12414",
   "metadata": {},
   "outputs": [
    {
     "name": "stdout",
     "output_type": "stream",
     "text": [
      "T  : |   0    |1|   2    |3|4|   5    |6|\n",
      "                                         \n",
      "q0 : -Ry(1.36)-X-C--------X-X-C--------X-\n",
      "                 |            |          \n",
      "q1 : ------------Ry(1.29)-X---C--------X-\n",
      "                              |          \n",
      "q2 : -------------------------Ry(3.14)---\n",
      "\n",
      "T  : |   0    |1|   2    |3|4|   5    |6|\n"
     ]
    }
   ],
   "source": [
    "initialized_circ = qsp_qubit_eff(w_like_state)\n",
    "print(initialized_circ)"
   ]
  },
  {
   "cell_type": "markdown",
   "id": "ea12522c-743c-4976-9505-53ecbc3dafb6",
   "metadata": {},
   "source": [
    "We can see that we only need $3$ multi-control Ry gates instead of $7$.\n",
    "\n",
    "Now, execute the circuit on the Braket simulator:"
   ]
  },
  {
   "cell_type": "code",
   "execution_count": 16,
   "id": "12c617fb-fae7-42dc-aa90-c330bebca3d5",
   "metadata": {
    "tags": []
   },
   "outputs": [
    {
     "name": "stderr",
     "output_type": "stream",
     "text": [
      "This program uses OpenQASM language features that may not be supported on QPUs or on-demand simulators.\n"
     ]
    },
    {
     "name": "stdout",
     "output_type": "stream",
     "text": [
      "[[0.   +0.j]\n",
      " [0.622+0.j]\n",
      " [0.467+0.j]\n",
      " [0.   +0.j]\n",
      " [0.629+0.j]\n",
      " [0.   +0.j]\n",
      " [0.   +0.j]\n",
      " [0.   +0.j]]\n"
     ]
    }
   ],
   "source": [
    "initialized_circ.state_vector() # convert the circuit to state vector\n",
    "braket_state_vector_result = braket_device.run(initialized_circ, shots=0).result().values[0] # extract the result\n",
    "print(row_to_column_vector(round_to_three_significant_digits(braket_state_vector_result, 3))) # print out the resulted state vector"
   ]
  },
  {
   "cell_type": "markdown",
   "id": "cef38455-9e05-4d4e-8621-cf485ff205e5",
   "metadata": {
    "tags": []
   },
   "source": [
    "The result matches the desired output."
   ]
  },
  {
   "cell_type": "markdown",
   "id": "a152ad53-a80b-4fc0-b7e3-0947c83d9d37",
   "metadata": {},
   "source": [
    "## [Optional] Generate Sparse Arbitrary Quantum State"
   ]
  },
  {
   "cell_type": "markdown",
   "id": "417a57db-4728-477a-869e-8340e85db383",
   "metadata": {},
   "source": [
    "Let's also see how the Qiskit's implementation look like."
   ]
  },
  {
   "cell_type": "code",
   "execution_count": 17,
   "id": "5b8ec516-8434-401c-a4b4-2b9654cdd39e",
   "metadata": {},
   "outputs": [],
   "source": [
    "# Import Qiskit libraries\n",
    "from qiskit import QuantumCircuit\n",
    "from qiskit.execute_function import execute\n",
    "from qiskit import BasicAer\n",
    "from qiskit import transpile\n",
    "qiskit_backend = BasicAer.get_backend('statevector_simulator')"
   ]
  },
  {
   "cell_type": "code",
   "execution_count": 18,
   "id": "5895be76-9c8c-4308-8fc8-0d052b4a7a83",
   "metadata": {},
   "outputs": [
    {
     "data": {
      "image/png": "[encoded data removed]",
      "text/plain": [
       "<Figure size 621.941x284.278 with 1 Axes>"
      ]
     },
     "execution_count": 18,
     "metadata": {},
     "output_type": "execute_result"
    }
   ],
   "source": [
    "qc = QuantumCircuit(n)\n",
    "qc.initialize(my_amplitude_vec, range(n))\n",
    "qc.draw(output='mpl')"
   ]
  },
  {
   "cell_type": "markdown",
   "id": "ce97d2d2-5bdd-46c1-a2d7-43210d82088e",
   "metadata": {},
   "source": [
    "This looks confusing, but we can decompose the 'big thing' into standard quantum gates."
   ]
  },
  {
   "cell_type": "code",
   "execution_count": 19,
   "id": "965bf95a-8cde-4578-8f61-cf003b1ff99a",
   "metadata": {
    "tags": []
   },
   "outputs": [
    {
     "data": {
      "image/png": "[encoded data removed]",
      "text/plain": [
       "<Figure size 1207.22x284.278 with 1 Axes>"
      ]
     },
     "execution_count": 19,
     "metadata": {},
     "output_type": "execute_result"
    }
   ],
   "source": [
    "qc.decompose().decompose().decompose().decompose().decompose().decompose().draw(output='mpl')"
   ]
  },
  {
   "cell_type": "markdown",
   "id": "d81dac1c-fbde-49b1-bb38-9e60f924e7ae",
   "metadata": {},
   "source": [
    "You can see that rather than using multi-control rotation gates, Qiskit uses many CNOT gates, which are typically less efficient when using the simulator."
   ]
  },
  {
   "cell_type": "code",
   "execution_count": 20,
   "id": "6de252a0-0bad-44eb-886c-04aeaa6c6903",
   "metadata": {
    "tags": []
   },
   "outputs": [
    {
     "name": "stdout",
     "output_type": "stream",
     "text": [
      "[[0.173+0.j]\n",
      " [0.265+0.j]\n",
      " [0.387+0.j]\n",
      " [0.224+0.j]\n",
      " [0.316+0.j]\n",
      " [0.548+0.j]\n",
      " [0.447+0.j]\n",
      " [0.316+0.j]]\n"
     ]
    }
   ],
   "source": [
    "# Transpile for simulator\n",
    "simulator = BasicAer.get_backend('statevector_simulator')\n",
    "qc = transpile(qc, simulator)\n",
    "\n",
    "job = execute(qc, qiskit_backend)\n",
    "qiskit_state_vector_result = job.result().get_statevector()\n",
    "print(row_to_column_vector(round_to_three_significant_digits(qiskit_state_vector_result, 3))) # print out the resulted state vector"
   ]
  },
  {
   "cell_type": "code",
   "execution_count": 21,
   "id": "41c7a72c-0d02-4cfc-a07d-39f6e17dc2ff",
   "metadata": {
    "tags": []
   },
   "outputs": [
    {
     "name": "stdout",
     "output_type": "stream",
     "text": [
      "[[ 0.00000000e+00+0.j]\n",
      " [ 5.55111512e-17+0.j]\n",
      " [ 0.00000000e+00+0.j]\n",
      " [ 2.77555756e-17+0.j]\n",
      " [ 0.00000000e+00+0.j]\n",
      " [-3.33066907e-16+0.j]\n",
      " [-5.55111512e-17+0.j]\n",
      " [-1.11022302e-16+0.j]]\n"
     ]
    }
   ],
   "source": [
    "print(row_to_column_vector(qiskit_state_vector_result - my_amplitude_vec))"
   ]
  },
  {
   "cell_type": "code",
   "execution_count": 22,
   "id": "95ca5e3a-a554-4ea1-b683-1eb2137d4615",
   "metadata": {
    "tags": []
   },
   "outputs": [
    {
     "data": {
      "text/plain": [
       "'1.55.0'"
      ]
     },
     "execution_count": 22,
     "metadata": {},
     "output_type": "execute_result"
    }
   ],
   "source": [
    "import braket._sdk as braket_sdk\n",
    "braket_sdk.__version__"
   ]
  },
  {
   "cell_type": "code",
   "execution_count": 23,
   "id": "c0b1d883-4bdf-484a-aa6b-1926094f7303",
   "metadata": {
    "tags": []
   },
   "outputs": [
    {
     "name": "stdout",
     "output_type": "stream",
     "text": [
      "3.10.11 (main, May 17 2023, 14:30:36) [Clang 14.0.6 ]\n"
     ]
    }
   ],
   "source": [
    "import sys\n",
    "print(sys.version)"
   ]
  }
 ],
 "metadata": {
  "kernelspec": {
   "display_name": "Python 3 (ipykernel)",
   "language": "python",
   "name": "python3"
  },
  "language_info": {
   "codemirror_mode": {
    "name": "ipython",
    "version": 3
   },
   "file_extension": ".py",
   "mimetype": "text/x-python",
   "name": "python",
   "nbconvert_exporter": "python",
   "pygments_lexer": "ipython3",
   "version": "3.10.11"
  }
 },
 "nbformat": 4,
 "nbformat_minor": 5
}
