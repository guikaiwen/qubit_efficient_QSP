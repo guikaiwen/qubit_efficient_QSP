{
 "cells": [
  {
   "cell_type": "markdown",
   "id": "f218e918-46e4-4914-930f-dd5d72c62154",
   "metadata": {},
   "source": [
    "# Qiskit Method Sparse State Gate Count"
   ]
  },
  {
   "cell_type": "markdown",
   "id": "ee6b0998-706e-4b81-8c7e-8a37068320dd",
   "metadata": {},
   "source": [
    "This note book will demonstrate the Qiskit's built-in quantum state preparation method `.initialize()` will require $O(2^n)$ CNOT gates and $O(2^n)$ single qubit rotation gates, which is asymptotically greater than the other method implemented in this Repo that requires $O(nd)$ multi-control rotation gates."
   ]
  },
  {
   "cell_type": "markdown",
   "id": "b6ee1ad6-b2f3-42d2-864a-54876ec35d7f",
   "metadata": {},
   "source": [
    "Note that the gate level optimization (e.g., romoving removing zero rotations and double cnots) are already done in  the Qiskit method (https://qiskit.org/documentation/stubs/qiskit.circuit.library.StatePreparation.html#statepreparation). So this additional cost is perhaps only caused by algorithm design."
   ]
  },
  {
   "cell_type": "code",
   "execution_count": 1,
   "id": "b41dccbb-e6d6-4794-8235-8e71e9dedd1b",
   "metadata": {
    "tags": []
   },
   "outputs": [],
   "source": [
    "import numpy as np\n",
    "import random\n",
    "\n",
    "from helper_functions import *\n",
    "\n",
    "# Import Qiskit libraries\n",
    "from qiskit import QuantumCircuit\n",
    "from qiskit.execute_function import execute\n",
    "from qiskit import BasicAer\n",
    "from qiskit import transpile\n",
    "qiskit_backend = BasicAer.get_backend('statevector_simulator')"
   ]
  },
  {
   "cell_type": "markdown",
   "id": "78f53a3d-f9f8-4c2a-9775-b210b4fe77aa",
   "metadata": {},
   "source": [
    "We can generate a 7-qubit sparse state with 5 non-zero elements (you can also toggle the `n` and `d` values around to play with other states)."
   ]
  },
  {
   "cell_type": "code",
   "execution_count": 152,
   "id": "26ce6d49-0b9f-416d-9946-e3b44aea2144",
   "metadata": {
    "tags": []
   },
   "outputs": [
    {
     "name": "stdout",
     "output_type": "stream",
     "text": [
      "[3, 8, 52, 109, 123]\n",
      "[0.         0.         0.         0.42392984 0.         0.\n",
      " 0.         0.         0.45024641 0.         0.         0.\n",
      " 0.         0.         0.         0.         0.         0.\n",
      " 0.         0.         0.         0.         0.         0.\n",
      " 0.         0.         0.         0.         0.         0.\n",
      " 0.         0.         0.         0.         0.         0.\n",
      " 0.         0.         0.         0.         0.         0.\n",
      " 0.         0.         0.         0.         0.         0.\n",
      " 0.         0.         0.         0.         0.25433257 0.\n",
      " 0.         0.         0.         0.         0.         0.\n",
      " 0.         0.         0.         0.         0.         0.\n",
      " 0.         0.         0.         0.         0.         0.\n",
      " 0.         0.         0.         0.         0.         0.\n",
      " 0.         0.         0.         0.         0.         0.\n",
      " 0.         0.         0.         0.         0.         0.\n",
      " 0.         0.         0.         0.         0.         0.\n",
      " 0.         0.         0.         0.         0.         0.\n",
      " 0.         0.         0.         0.         0.         0.\n",
      " 0.         0.74288796 0.         0.         0.         0.\n",
      " 0.         0.         0.         0.         0.         0.\n",
      " 0.         0.         0.         0.031529   0.         0.\n",
      " 0.         0.        ]\n"
     ]
    }
   ],
   "source": [
    "random.seed(10)\n",
    "n = 7\n",
    "d = 5\n",
    "# generate a random array of size d with element values chosen from [0, 2^n] to index the sparse state's non-zero value locations\n",
    "random_d_length_array = sorted(random.sample(range(2 ** n), d))\n",
    "print(random_d_length_array)\n",
    "# generate a sparse state based on the non-zero value location index array above\n",
    "sparse_state_vector = generate_normalized_real_sparse_array(n, random_d_length_array)\n",
    "print(sparse_state_vector)"
   ]
  },
  {
   "cell_type": "code",
   "execution_count": 153,
   "id": "d85ebd8a-f81e-45fa-a257-77358ef25cb5",
   "metadata": {},
   "outputs": [
    {
     "data": {
      "image/png": "[encoded data removed]",
      "text/plain": [
       "<Figure size 538.33x618.722 with 1 Axes>"
      ]
     },
     "execution_count": 153,
     "metadata": {},
     "output_type": "execute_result"
    }
   ],
   "source": [
    "qc = QuantumCircuit(n)\n",
    "qc.initialize(w_like_state, range(n))\n",
    "\n",
    "qc.draw(output='mpl')"
   ]
  },
  {
   "cell_type": "code",
   "execution_count": 156,
   "id": "39851ecb-e370-44cd-8dcd-7fffa912cf50",
   "metadata": {
    "tags": []
   },
   "outputs": [
    {
     "name": "stdout",
     "output_type": "stream",
     "text": [
      "{'u': 127, 'cx': 126, 'reset': 7}\n"
     ]
    }
   ],
   "source": [
    "# decompose the circuit to make sure everything is in the SU(2), CNOT form\n",
    "decomposed_qc = qc.decompose().decompose().decompose().decompose().decompose().decompose().decompose().decompose().decompose().decompose().decompose().decompose().decompose().decompose()\n",
    "print(dict(decomposed_qc.count_ops()))"
   ]
  },
  {
   "cell_type": "markdown",
   "id": "c86caf80-8ebd-4eea-83f1-eb6c2fd78233",
   "metadata": {},
   "source": [
    "We can see that 127 single qubit gates and 126 CNOT gates are required, which is approximately equal to $2^7 = 128$"
   ]
  },
  {
   "cell_type": "code",
   "execution_count": 146,
   "id": "95ca5e3a-a554-4ea1-b683-1eb2137d4615",
   "metadata": {
    "tags": []
   },
   "outputs": [
    {
     "data": {
      "text/plain": [
       "{'qiskit-terra': '0.25.1', 'qiskit': '0.44.1', 'qiskit-aer': '0.12.0', 'qiskit-ignis': None, 'qiskit-ibmq-provider': '0.20.2', 'qiskit-nature': None, 'qiskit-finance': None, 'qiskit-optimization': None, 'qiskit-machine-learning': None}"
      ]
     },
     "execution_count": 146,
     "metadata": {},
     "output_type": "execute_result"
    }
   ],
   "source": [
    "import qiskit\n",
    "qiskit.__qiskit_version__"
   ]
  },
  {
   "cell_type": "code",
   "execution_count": 36,
   "id": "c0b1d883-4bdf-484a-aa6b-1926094f7303",
   "metadata": {
    "tags": []
   },
   "outputs": [
    {
     "name": "stdout",
     "output_type": "stream",
     "text": [
      "3.10.11 (main, May 17 2023, 14:30:36) [Clang 14.0.6 ]\n"
     ]
    }
   ],
   "source": [
    "import sys\n",
    "print(sys.version)"
   ]
  }
 ],
 "metadata": {
  "kernelspec": {
   "display_name": "Python 3 (ipykernel)",
   "language": "python",
   "name": "python3"
  },
  "language_info": {
   "codemirror_mode": {
    "name": "ipython",
    "version": 3
   },
   "file_extension": ".py",
   "mimetype": "text/x-python",
   "name": "python",
   "nbconvert_exporter": "python",
   "pygments_lexer": "ipython3",
   "version": "3.10.11"
  }
 },
 "nbformat": 4,
 "nbformat_minor": 5
}
